{
  "nbformat": 4,
  "nbformat_minor": 0,
  "metadata": {
    "colab": {
      "name": "gstore_competition.ipynb",
      "version": "0.3.2",
      "provenance": [],
      "include_colab_link": true
    },
    "kernelspec": {
      "name": "python3",
      "display_name": "Python 3"
    },
    "accelerator": "GPU"
  },
  "cells": [
    {
      "cell_type": "markdown",
      "metadata": {
        "id": "view-in-github",
        "colab_type": "text"
      },
      "source": [
        "<a href=\"https://colab.research.google.com/github/svarogjk/shop_revenue_prediction/blob/master/gstore_competition.ipynb\" target=\"_parent\"><img src=\"https://colab.research.google.com/assets/colab-badge.svg\" alt=\"Open In Colab\"/></a>"
      ]
    },
    {
      "metadata": {
        "id": "0_U9nZDbFx-7",
        "colab_type": "text"
      },
      "cell_type": "markdown",
      "source": [
        "## Prepare \"working DataFrame\""
      ]
    },
    {
      "metadata": {
        "id": "DDvZ-Q7ZEmEm",
        "colab_type": "text"
      },
      "cell_type": "markdown",
      "source": [
        "### Imports and Readings"
      ]
    },
    {
      "metadata": {
        "id": "32B4MFU2bCcA",
        "colab_type": "code",
        "colab": {}
      },
      "cell_type": "code",
      "source": [
        "import pandas as pd\n",
        "import numpy as np\n",
        "import os\n",
        "import matplotlib.pyplot as plt\n",
        "import seaborn as sns\n",
        "sns.set()\n",
        "current_palette = sns.color_palette()\n",
        "# from tqdm import tqdm_notebook\n",
        "%matplotlib inline \n",
        "import io\n",
        "from google.colab import files"
      ],
      "execution_count": 0,
      "outputs": []
    },
    {
      "metadata": {
        "id": "ylch5Vz-Z4lP",
        "colab_type": "code",
        "colab": {}
      },
      "cell_type": "code",
      "source": [
        "import json\n",
        "from pandas.io.json import json_normalize\n",
        "import random"
      ],
      "execution_count": 0,
      "outputs": []
    },
    {
      "metadata": {
        "id": "O8Le6ZBdMIpV",
        "colab_type": "code",
        "colab": {}
      },
      "cell_type": "code",
      "source": [
        "from itertools import product\n",
        "from sklearn.preprocessing import LabelEncoder"
      ],
      "execution_count": 0,
      "outputs": []
    },
    {
      "metadata": {
        "id": "IlgpRAHpMOXN",
        "colab_type": "code",
        "colab": {}
      },
      "cell_type": "code",
      "source": [
        "# !pip install fbprophet\n",
        "# from fbprophet import Prophet"
      ],
      "execution_count": 0,
      "outputs": []
    },
    {
      "metadata": {
        "id": "lp1lqwQTMO9l",
        "colab_type": "code",
        "colab": {}
      },
      "cell_type": "code",
      "source": [
        "from xgboost import XGBRegressor\n",
        "from xgboost import plot_importance"
      ],
      "execution_count": 0,
      "outputs": []
    },
    {
      "metadata": {
        "id": "WigyzmGo33Ng",
        "colab_type": "code",
        "colab": {}
      },
      "cell_type": "code",
      "source": [
        "from sklearn.ensemble import RandomForestRegressor\n",
        "from sklearn.model_selection import KFold, cross_val_score, train_test_split\n",
        "from sklearn.metrics import r2_score, make_scorer"
      ],
      "execution_count": 0,
      "outputs": []
    },
    {
      "metadata": {
        "id": "69ZUkDJNbCcQ",
        "colab_type": "code",
        "colab": {}
      },
      "cell_type": "code",
      "source": [
        "!pip install -U -q PyDrive\n",
        " \n",
        "from pydrive.auth import GoogleAuth\n",
        "from pydrive.drive import GoogleDrive\n",
        "from google.colab import auth\n",
        "from oauth2client.client import GoogleCredentials\n",
        " \n",
        "# 1. Authenticate and create the PyDrive client.\n",
        "auth.authenticate_user()\n",
        "gauth = GoogleAuth()\n",
        "gauth.credentials = GoogleCredentials.get_application_default()\n",
        "drive = GoogleDrive(gauth)"
      ],
      "execution_count": 0,
      "outputs": []
    },
    {
      "metadata": {
        "id": "cE7ztP1b6JuK",
        "colab_type": "code",
        "outputId": "cfcd984d-fcec-4550-d9b5-4604e55f591d",
        "colab": {
          "base_uri": "https://localhost:8080/",
          "height": 129
        }
      },
      "cell_type": "code",
      "source": [
        "file_list = drive.ListFile({'q': \"'19ry360g_dRMf_i9Gi4A2WrOzE682GA7O' in parents and trashed=false\"}).GetList()\n",
        "for file1 in file_list:\n",
        "  print('title: %s, id: %s' % (file1['title'], file1['id']))"
      ],
      "execution_count": 8,
      "outputs": [
        {
          "output_type": "stream",
          "text": [
            "title: gstore_competition.ipynb, id: 1gRRqwzC-VDFe_fOQW9Kc-5YX3Gmofxnt\n",
            "title: train.csv, id: 1-9OX7E7uSovNTI4-h43oMQpZavJai6sb\n",
            "title: test.csv, id: 1SohvLEveFD4yhhR_alpJtfgtY5QIYMV4\n",
            "title: sample_submission.csv, id: 1WLB9e5uswsrR8NWq4yLwFKlXE9uYUZKB\n",
            "title: all.zip (Unzipped Files), id: 13XaW-vTIJKNDKMrbhamaduANnnPFojkQ\n",
            "title: all.zip, id: 1Mi8GWSji2h1FGzWkQHYXmRuQNqHcIUlj\n"
          ],
          "name": "stdout"
        }
      ]
    },
    {
      "metadata": {
        "id": "2__XGc2J756U",
        "colab_type": "code",
        "colab": {}
      },
      "cell_type": "code",
      "source": [
        "train = drive.CreateFile({'id': '1-9OX7E7uSovNTI4-h43oMQpZavJai6sb'})\n",
        "train.GetContentFile('train.csv')\n",
        "\n",
        "test_data = drive.CreateFile({'id': '1SohvLEveFD4yhhR_alpJtfgtY5QIYMV4'})\n",
        "test_data.GetContentFile('test.csv')\n",
        "\n",
        "submission = drive.CreateFile({'id': '1WLB9e5uswsrR8NWq4yLwFKlXE9uYUZKB'})\n",
        "test_data.GetContentFile('sample_submission.csv')"
      ],
      "execution_count": 0,
      "outputs": []
    },
    {
      "metadata": {
        "id": "8MKNY-OncArv",
        "colab_type": "text"
      },
      "cell_type": "markdown",
      "source": [
        "### Here we read our DataFrame and transform its json columns into normal ones"
      ]
    },
    {
      "metadata": {
        "id": "ECS9WtTQcAUm",
        "colab_type": "code",
        "colab": {}
      },
      "cell_type": "code",
      "source": [
        "def json_read(df):\n",
        "    \n",
        "    columns = ['device', 'geoNetwork', 'totals', 'trafficSource']\n",
        "    p = 0.07\n",
        "    \n",
        "    data_frame = df\n",
        "    \n",
        "    #Importing the dataset\n",
        "    df = pd.read_csv(data_frame, \n",
        "                     converters={column: json.loads for column in columns}, # loading the json columns properly\n",
        "                     dtype={'fullVisitorId': 'str'},\n",
        "                    skiprows=lambda i: i>0 and random.random() > p\n",
        "                    ) # transforming this column to string\n",
        "    \n",
        "    for column in columns: #loop to finally transform the columns in data frame\n",
        "        #It will normalize and set the json to a table\n",
        "        column_as_df = json_normalize(df[column]) \n",
        "        # here will be set the name using the category and subcategory of json columns\n",
        "        column_as_df.columns = [f\"{column}.{subcolumn}\" for subcolumn in column_as_df.columns] \n",
        "        # after extracting the values, let drop the original columns\n",
        "        df = df.drop(column, axis=1).merge(column_as_df, right_index=True, left_index=True)\n",
        "        \n",
        "    # Printing the shape of dataframes that was imported     \n",
        "    print(f\"Loaded {os.path.basename(data_frame)}. Shape: {df.shape}\")\n",
        "    return df # returning the df after importing and transforming"
      ],
      "execution_count": 0,
      "outputs": []
    },
    {
      "metadata": {
        "id": "PLQVutOlGxT6",
        "colab_type": "code",
        "colab": {}
      },
      "cell_type": "code",
      "source": [
        "train = pd.read_csv('train.csv', low_memory=False)\n",
        "test_data = pd.read_csv('test.csv', low_memory=False)\n",
        "submission = pd.read_csv('sample_submission.csv', low_memory=False)"
      ],
      "execution_count": 0,
      "outputs": []
    },
    {
      "metadata": {
        "id": "UFirmLr9REl7",
        "colab_type": "code",
        "colab": {
          "base_uri": "https://localhost:8080/",
          "height": 236
        },
        "outputId": "8e9ed683-12ea-4215-90a3-c83c6d655068"
      },
      "cell_type": "code",
      "source": [
        "train.head(2)"
      ],
      "execution_count": 12,
      "outputs": [
        {
          "output_type": "execute_result",
          "data": {
            "text/html": [
              "<div>\n",
              "<style scoped>\n",
              "    .dataframe tbody tr th:only-of-type {\n",
              "        vertical-align: middle;\n",
              "    }\n",
              "\n",
              "    .dataframe tbody tr th {\n",
              "        vertical-align: top;\n",
              "    }\n",
              "\n",
              "    .dataframe thead th {\n",
              "        text-align: right;\n",
              "    }\n",
              "</style>\n",
              "<table border=\"1\" class=\"dataframe\">\n",
              "  <thead>\n",
              "    <tr style=\"text-align: right;\">\n",
              "      <th></th>\n",
              "      <th>channelGrouping</th>\n",
              "      <th>date</th>\n",
              "      <th>device</th>\n",
              "      <th>fullVisitorId</th>\n",
              "      <th>geoNetwork</th>\n",
              "      <th>sessionId</th>\n",
              "      <th>socialEngagementType</th>\n",
              "      <th>totals</th>\n",
              "      <th>trafficSource</th>\n",
              "      <th>visitId</th>\n",
              "      <th>visitNumber</th>\n",
              "      <th>visitStartTime</th>\n",
              "    </tr>\n",
              "  </thead>\n",
              "  <tbody>\n",
              "    <tr>\n",
              "      <th>0</th>\n",
              "      <td>Organic Search</td>\n",
              "      <td>20160902</td>\n",
              "      <td>{\"browser\": \"Chrome\", \"browserVersion\": \"not a...</td>\n",
              "      <td>1131660440785968503</td>\n",
              "      <td>{\"continent\": \"Asia\", \"subContinent\": \"Western...</td>\n",
              "      <td>1131660440785968503_1472830385</td>\n",
              "      <td>Not Socially Engaged</td>\n",
              "      <td>{\"visits\": \"1\", \"hits\": \"1\", \"pageviews\": \"1\",...</td>\n",
              "      <td>{\"campaign\": \"(not set)\", \"source\": \"google\", ...</td>\n",
              "      <td>1472830385</td>\n",
              "      <td>1</td>\n",
              "      <td>1472830385</td>\n",
              "    </tr>\n",
              "    <tr>\n",
              "      <th>1</th>\n",
              "      <td>Organic Search</td>\n",
              "      <td>20160902</td>\n",
              "      <td>{\"browser\": \"Firefox\", \"browserVersion\": \"not ...</td>\n",
              "      <td>377306020877927890</td>\n",
              "      <td>{\"continent\": \"Oceania\", \"subContinent\": \"Aust...</td>\n",
              "      <td>377306020877927890_1472880147</td>\n",
              "      <td>Not Socially Engaged</td>\n",
              "      <td>{\"visits\": \"1\", \"hits\": \"1\", \"pageviews\": \"1\",...</td>\n",
              "      <td>{\"campaign\": \"(not set)\", \"source\": \"google\", ...</td>\n",
              "      <td>1472880147</td>\n",
              "      <td>1</td>\n",
              "      <td>1472880147</td>\n",
              "    </tr>\n",
              "  </tbody>\n",
              "</table>\n",
              "</div>"
            ],
            "text/plain": [
              "  channelGrouping      date  \\\n",
              "0  Organic Search  20160902   \n",
              "1  Organic Search  20160902   \n",
              "\n",
              "                                              device        fullVisitorId  \\\n",
              "0  {\"browser\": \"Chrome\", \"browserVersion\": \"not a...  1131660440785968503   \n",
              "1  {\"browser\": \"Firefox\", \"browserVersion\": \"not ...   377306020877927890   \n",
              "\n",
              "                                          geoNetwork  \\\n",
              "0  {\"continent\": \"Asia\", \"subContinent\": \"Western...   \n",
              "1  {\"continent\": \"Oceania\", \"subContinent\": \"Aust...   \n",
              "\n",
              "                        sessionId  socialEngagementType  \\\n",
              "0  1131660440785968503_1472830385  Not Socially Engaged   \n",
              "1   377306020877927890_1472880147  Not Socially Engaged   \n",
              "\n",
              "                                              totals  \\\n",
              "0  {\"visits\": \"1\", \"hits\": \"1\", \"pageviews\": \"1\",...   \n",
              "1  {\"visits\": \"1\", \"hits\": \"1\", \"pageviews\": \"1\",...   \n",
              "\n",
              "                                       trafficSource     visitId  visitNumber  \\\n",
              "0  {\"campaign\": \"(not set)\", \"source\": \"google\", ...  1472830385            1   \n",
              "1  {\"campaign\": \"(not set)\", \"source\": \"google\", ...  1472880147            1   \n",
              "\n",
              "   visitStartTime  \n",
              "0      1472830385  \n",
              "1      1472880147  "
            ]
          },
          "metadata": {
            "tags": []
          },
          "execution_count": 12
        }
      ]
    },
    {
      "metadata": {
        "id": "iGOGDkPxREZI",
        "colab_type": "code",
        "colab": {
          "base_uri": "https://localhost:8080/",
          "height": 236
        },
        "outputId": "df0684b1-ac38-4f06-b5f1-e1705bb90e79"
      },
      "cell_type": "code",
      "source": [
        "test_data.head(2)"
      ],
      "execution_count": 13,
      "outputs": [
        {
          "output_type": "execute_result",
          "data": {
            "text/html": [
              "<div>\n",
              "<style scoped>\n",
              "    .dataframe tbody tr th:only-of-type {\n",
              "        vertical-align: middle;\n",
              "    }\n",
              "\n",
              "    .dataframe tbody tr th {\n",
              "        vertical-align: top;\n",
              "    }\n",
              "\n",
              "    .dataframe thead th {\n",
              "        text-align: right;\n",
              "    }\n",
              "</style>\n",
              "<table border=\"1\" class=\"dataframe\">\n",
              "  <thead>\n",
              "    <tr style=\"text-align: right;\">\n",
              "      <th></th>\n",
              "      <th>channelGrouping</th>\n",
              "      <th>date</th>\n",
              "      <th>device</th>\n",
              "      <th>fullVisitorId</th>\n",
              "      <th>geoNetwork</th>\n",
              "      <th>sessionId</th>\n",
              "      <th>socialEngagementType</th>\n",
              "      <th>totals</th>\n",
              "      <th>trafficSource</th>\n",
              "      <th>visitId</th>\n",
              "      <th>visitNumber</th>\n",
              "      <th>visitStartTime</th>\n",
              "    </tr>\n",
              "  </thead>\n",
              "  <tbody>\n",
              "    <tr>\n",
              "      <th>0</th>\n",
              "      <td>Organic Search</td>\n",
              "      <td>20171016</td>\n",
              "      <td>{\"browser\": \"Chrome\", \"browserVersion\": \"not a...</td>\n",
              "      <td>6167871330617112363</td>\n",
              "      <td>{\"continent\": \"Asia\", \"subContinent\": \"Southea...</td>\n",
              "      <td>6167871330617112363_1508151024</td>\n",
              "      <td>Not Socially Engaged</td>\n",
              "      <td>{\"visits\": \"1\", \"hits\": \"4\", \"pageviews\": \"4\"}</td>\n",
              "      <td>{\"campaign\": \"(not set)\", \"source\": \"google\", ...</td>\n",
              "      <td>1508151024</td>\n",
              "      <td>2</td>\n",
              "      <td>1508151024</td>\n",
              "    </tr>\n",
              "    <tr>\n",
              "      <th>1</th>\n",
              "      <td>Organic Search</td>\n",
              "      <td>20171016</td>\n",
              "      <td>{\"browser\": \"Chrome\", \"browserVersion\": \"not a...</td>\n",
              "      <td>0643697640977915618</td>\n",
              "      <td>{\"continent\": \"Europe\", \"subContinent\": \"South...</td>\n",
              "      <td>0643697640977915618_1508175522</td>\n",
              "      <td>Not Socially Engaged</td>\n",
              "      <td>{\"visits\": \"1\", \"hits\": \"5\", \"pageviews\": \"5\",...</td>\n",
              "      <td>{\"campaign\": \"(not set)\", \"source\": \"google\", ...</td>\n",
              "      <td>1508175522</td>\n",
              "      <td>1</td>\n",
              "      <td>1508175522</td>\n",
              "    </tr>\n",
              "  </tbody>\n",
              "</table>\n",
              "</div>"
            ],
            "text/plain": [
              "  channelGrouping      date  \\\n",
              "0  Organic Search  20171016   \n",
              "1  Organic Search  20171016   \n",
              "\n",
              "                                              device        fullVisitorId  \\\n",
              "0  {\"browser\": \"Chrome\", \"browserVersion\": \"not a...  6167871330617112363   \n",
              "1  {\"browser\": \"Chrome\", \"browserVersion\": \"not a...  0643697640977915618   \n",
              "\n",
              "                                          geoNetwork  \\\n",
              "0  {\"continent\": \"Asia\", \"subContinent\": \"Southea...   \n",
              "1  {\"continent\": \"Europe\", \"subContinent\": \"South...   \n",
              "\n",
              "                        sessionId  socialEngagementType  \\\n",
              "0  6167871330617112363_1508151024  Not Socially Engaged   \n",
              "1  0643697640977915618_1508175522  Not Socially Engaged   \n",
              "\n",
              "                                              totals  \\\n",
              "0     {\"visits\": \"1\", \"hits\": \"4\", \"pageviews\": \"4\"}   \n",
              "1  {\"visits\": \"1\", \"hits\": \"5\", \"pageviews\": \"5\",...   \n",
              "\n",
              "                                       trafficSource     visitId  visitNumber  \\\n",
              "0  {\"campaign\": \"(not set)\", \"source\": \"google\", ...  1508151024            2   \n",
              "1  {\"campaign\": \"(not set)\", \"source\": \"google\", ...  1508175522            1   \n",
              "\n",
              "   visitStartTime  \n",
              "0      1508151024  \n",
              "1      1508175522  "
            ]
          },
          "metadata": {
            "tags": []
          },
          "execution_count": 13
        }
      ]
    },
    {
      "metadata": {
        "id": "oDncHXtMRELV",
        "colab_type": "code",
        "colab": {
          "base_uri": "https://localhost:8080/",
          "height": 236
        },
        "outputId": "6a7bc42a-71ed-4ff8-c8c1-543af8d6a796"
      },
      "cell_type": "code",
      "source": [
        "submission.head(2)"
      ],
      "execution_count": 14,
      "outputs": [
        {
          "output_type": "execute_result",
          "data": {
            "text/html": [
              "<div>\n",
              "<style scoped>\n",
              "    .dataframe tbody tr th:only-of-type {\n",
              "        vertical-align: middle;\n",
              "    }\n",
              "\n",
              "    .dataframe tbody tr th {\n",
              "        vertical-align: top;\n",
              "    }\n",
              "\n",
              "    .dataframe thead th {\n",
              "        text-align: right;\n",
              "    }\n",
              "</style>\n",
              "<table border=\"1\" class=\"dataframe\">\n",
              "  <thead>\n",
              "    <tr style=\"text-align: right;\">\n",
              "      <th></th>\n",
              "      <th>channelGrouping</th>\n",
              "      <th>date</th>\n",
              "      <th>device</th>\n",
              "      <th>fullVisitorId</th>\n",
              "      <th>geoNetwork</th>\n",
              "      <th>sessionId</th>\n",
              "      <th>socialEngagementType</th>\n",
              "      <th>totals</th>\n",
              "      <th>trafficSource</th>\n",
              "      <th>visitId</th>\n",
              "      <th>visitNumber</th>\n",
              "      <th>visitStartTime</th>\n",
              "    </tr>\n",
              "  </thead>\n",
              "  <tbody>\n",
              "    <tr>\n",
              "      <th>0</th>\n",
              "      <td>Organic Search</td>\n",
              "      <td>20171016</td>\n",
              "      <td>{\"browser\": \"Chrome\", \"browserVersion\": \"not a...</td>\n",
              "      <td>6167871330617112363</td>\n",
              "      <td>{\"continent\": \"Asia\", \"subContinent\": \"Southea...</td>\n",
              "      <td>6167871330617112363_1508151024</td>\n",
              "      <td>Not Socially Engaged</td>\n",
              "      <td>{\"visits\": \"1\", \"hits\": \"4\", \"pageviews\": \"4\"}</td>\n",
              "      <td>{\"campaign\": \"(not set)\", \"source\": \"google\", ...</td>\n",
              "      <td>1508151024</td>\n",
              "      <td>2</td>\n",
              "      <td>1508151024</td>\n",
              "    </tr>\n",
              "    <tr>\n",
              "      <th>1</th>\n",
              "      <td>Organic Search</td>\n",
              "      <td>20171016</td>\n",
              "      <td>{\"browser\": \"Chrome\", \"browserVersion\": \"not a...</td>\n",
              "      <td>0643697640977915618</td>\n",
              "      <td>{\"continent\": \"Europe\", \"subContinent\": \"South...</td>\n",
              "      <td>0643697640977915618_1508175522</td>\n",
              "      <td>Not Socially Engaged</td>\n",
              "      <td>{\"visits\": \"1\", \"hits\": \"5\", \"pageviews\": \"5\",...</td>\n",
              "      <td>{\"campaign\": \"(not set)\", \"source\": \"google\", ...</td>\n",
              "      <td>1508175522</td>\n",
              "      <td>1</td>\n",
              "      <td>1508175522</td>\n",
              "    </tr>\n",
              "  </tbody>\n",
              "</table>\n",
              "</div>"
            ],
            "text/plain": [
              "  channelGrouping      date  \\\n",
              "0  Organic Search  20171016   \n",
              "1  Organic Search  20171016   \n",
              "\n",
              "                                              device        fullVisitorId  \\\n",
              "0  {\"browser\": \"Chrome\", \"browserVersion\": \"not a...  6167871330617112363   \n",
              "1  {\"browser\": \"Chrome\", \"browserVersion\": \"not a...  0643697640977915618   \n",
              "\n",
              "                                          geoNetwork  \\\n",
              "0  {\"continent\": \"Asia\", \"subContinent\": \"Southea...   \n",
              "1  {\"continent\": \"Europe\", \"subContinent\": \"South...   \n",
              "\n",
              "                        sessionId  socialEngagementType  \\\n",
              "0  6167871330617112363_1508151024  Not Socially Engaged   \n",
              "1  0643697640977915618_1508175522  Not Socially Engaged   \n",
              "\n",
              "                                              totals  \\\n",
              "0     {\"visits\": \"1\", \"hits\": \"4\", \"pageviews\": \"4\"}   \n",
              "1  {\"visits\": \"1\", \"hits\": \"5\", \"pageviews\": \"5\",...   \n",
              "\n",
              "                                       trafficSource     visitId  visitNumber  \\\n",
              "0  {\"campaign\": \"(not set)\", \"source\": \"google\", ...  1508151024            2   \n",
              "1  {\"campaign\": \"(not set)\", \"source\": \"google\", ...  1508175522            1   \n",
              "\n",
              "   visitStartTime  \n",
              "0      1508151024  \n",
              "1      1508175522  "
            ]
          },
          "metadata": {
            "tags": []
          },
          "execution_count": 14
        }
      ]
    },
    {
      "metadata": {
        "id": "fYMh3NLNxhKV",
        "colab_type": "text"
      },
      "cell_type": "markdown",
      "source": [
        "### Extract target"
      ]
    },
    {
      "metadata": {
        "id": "6T5n_xdFsxnf",
        "colab_type": "code",
        "colab": {}
      },
      "cell_type": "code",
      "source": [
        "train_totals = train.totals.apply(json.loads).apply(pd.Series)"
      ],
      "execution_count": 0,
      "outputs": []
    },
    {
      "metadata": {
        "id": "OjVCfdXVREK3",
        "colab_type": "code",
        "colab": {
          "base_uri": "https://localhost:8080/",
          "height": 0
        },
        "outputId": "5f02b3c4-0a7a-49a0-956e-ed0f302365bd"
      },
      "cell_type": "code",
      "source": [
        "train_totals.head(2)"
      ],
      "execution_count": 16,
      "outputs": [
        {
          "output_type": "execute_result",
          "data": {
            "text/html": [
              "<div>\n",
              "<style scoped>\n",
              "    .dataframe tbody tr th:only-of-type {\n",
              "        vertical-align: middle;\n",
              "    }\n",
              "\n",
              "    .dataframe tbody tr th {\n",
              "        vertical-align: top;\n",
              "    }\n",
              "\n",
              "    .dataframe thead th {\n",
              "        text-align: right;\n",
              "    }\n",
              "</style>\n",
              "<table border=\"1\" class=\"dataframe\">\n",
              "  <thead>\n",
              "    <tr style=\"text-align: right;\">\n",
              "      <th></th>\n",
              "      <th>bounces</th>\n",
              "      <th>hits</th>\n",
              "      <th>newVisits</th>\n",
              "      <th>pageviews</th>\n",
              "      <th>transactionRevenue</th>\n",
              "      <th>visits</th>\n",
              "    </tr>\n",
              "  </thead>\n",
              "  <tbody>\n",
              "    <tr>\n",
              "      <th>0</th>\n",
              "      <td>1</td>\n",
              "      <td>1</td>\n",
              "      <td>1</td>\n",
              "      <td>1</td>\n",
              "      <td>NaN</td>\n",
              "      <td>1</td>\n",
              "    </tr>\n",
              "    <tr>\n",
              "      <th>1</th>\n",
              "      <td>1</td>\n",
              "      <td>1</td>\n",
              "      <td>1</td>\n",
              "      <td>1</td>\n",
              "      <td>NaN</td>\n",
              "      <td>1</td>\n",
              "    </tr>\n",
              "  </tbody>\n",
              "</table>\n",
              "</div>"
            ],
            "text/plain": [
              "  bounces hits newVisits pageviews transactionRevenue visits\n",
              "0       1    1         1         1                NaN      1\n",
              "1       1    1         1         1                NaN      1"
            ]
          },
          "metadata": {
            "tags": []
          },
          "execution_count": 16
        }
      ]
    },
    {
      "metadata": {
        "id": "-ba0rAzzsxX1",
        "colab_type": "code",
        "colab": {}
      },
      "cell_type": "code",
      "source": [
        "train = pd.concat([train, train_totals], axis=1)\n",
        "train.drop([\"totals\"], axis=1, inplace=True)"
      ],
      "execution_count": 0,
      "outputs": []
    },
    {
      "metadata": {
        "id": "oh3GyecqxY6u",
        "colab_type": "code",
        "colab": {
          "base_uri": "https://localhost:8080/",
          "height": 0
        },
        "outputId": "027030cc-b3d8-4c61-a957-d63b79b9672a"
      },
      "cell_type": "code",
      "source": [
        "train.head(2)"
      ],
      "execution_count": 18,
      "outputs": [
        {
          "output_type": "execute_result",
          "data": {
            "text/html": [
              "<div>\n",
              "<style scoped>\n",
              "    .dataframe tbody tr th:only-of-type {\n",
              "        vertical-align: middle;\n",
              "    }\n",
              "\n",
              "    .dataframe tbody tr th {\n",
              "        vertical-align: top;\n",
              "    }\n",
              "\n",
              "    .dataframe thead th {\n",
              "        text-align: right;\n",
              "    }\n",
              "</style>\n",
              "<table border=\"1\" class=\"dataframe\">\n",
              "  <thead>\n",
              "    <tr style=\"text-align: right;\">\n",
              "      <th></th>\n",
              "      <th>channelGrouping</th>\n",
              "      <th>date</th>\n",
              "      <th>device</th>\n",
              "      <th>fullVisitorId</th>\n",
              "      <th>geoNetwork</th>\n",
              "      <th>sessionId</th>\n",
              "      <th>socialEngagementType</th>\n",
              "      <th>trafficSource</th>\n",
              "      <th>visitId</th>\n",
              "      <th>visitNumber</th>\n",
              "      <th>visitStartTime</th>\n",
              "      <th>bounces</th>\n",
              "      <th>hits</th>\n",
              "      <th>newVisits</th>\n",
              "      <th>pageviews</th>\n",
              "      <th>transactionRevenue</th>\n",
              "      <th>visits</th>\n",
              "    </tr>\n",
              "  </thead>\n",
              "  <tbody>\n",
              "    <tr>\n",
              "      <th>0</th>\n",
              "      <td>Organic Search</td>\n",
              "      <td>20160902</td>\n",
              "      <td>{\"browser\": \"Chrome\", \"browserVersion\": \"not a...</td>\n",
              "      <td>1131660440785968503</td>\n",
              "      <td>{\"continent\": \"Asia\", \"subContinent\": \"Western...</td>\n",
              "      <td>1131660440785968503_1472830385</td>\n",
              "      <td>Not Socially Engaged</td>\n",
              "      <td>{\"campaign\": \"(not set)\", \"source\": \"google\", ...</td>\n",
              "      <td>1472830385</td>\n",
              "      <td>1</td>\n",
              "      <td>1472830385</td>\n",
              "      <td>1</td>\n",
              "      <td>1</td>\n",
              "      <td>1</td>\n",
              "      <td>1</td>\n",
              "      <td>NaN</td>\n",
              "      <td>1</td>\n",
              "    </tr>\n",
              "    <tr>\n",
              "      <th>1</th>\n",
              "      <td>Organic Search</td>\n",
              "      <td>20160902</td>\n",
              "      <td>{\"browser\": \"Firefox\", \"browserVersion\": \"not ...</td>\n",
              "      <td>377306020877927890</td>\n",
              "      <td>{\"continent\": \"Oceania\", \"subContinent\": \"Aust...</td>\n",
              "      <td>377306020877927890_1472880147</td>\n",
              "      <td>Not Socially Engaged</td>\n",
              "      <td>{\"campaign\": \"(not set)\", \"source\": \"google\", ...</td>\n",
              "      <td>1472880147</td>\n",
              "      <td>1</td>\n",
              "      <td>1472880147</td>\n",
              "      <td>1</td>\n",
              "      <td>1</td>\n",
              "      <td>1</td>\n",
              "      <td>1</td>\n",
              "      <td>NaN</td>\n",
              "      <td>1</td>\n",
              "    </tr>\n",
              "  </tbody>\n",
              "</table>\n",
              "</div>"
            ],
            "text/plain": [
              "  channelGrouping      date  \\\n",
              "0  Organic Search  20160902   \n",
              "1  Organic Search  20160902   \n",
              "\n",
              "                                              device        fullVisitorId  \\\n",
              "0  {\"browser\": \"Chrome\", \"browserVersion\": \"not a...  1131660440785968503   \n",
              "1  {\"browser\": \"Firefox\", \"browserVersion\": \"not ...   377306020877927890   \n",
              "\n",
              "                                          geoNetwork  \\\n",
              "0  {\"continent\": \"Asia\", \"subContinent\": \"Western...   \n",
              "1  {\"continent\": \"Oceania\", \"subContinent\": \"Aust...   \n",
              "\n",
              "                        sessionId  socialEngagementType  \\\n",
              "0  1131660440785968503_1472830385  Not Socially Engaged   \n",
              "1   377306020877927890_1472880147  Not Socially Engaged   \n",
              "\n",
              "                                       trafficSource     visitId  visitNumber  \\\n",
              "0  {\"campaign\": \"(not set)\", \"source\": \"google\", ...  1472830385            1   \n",
              "1  {\"campaign\": \"(not set)\", \"source\": \"google\", ...  1472880147            1   \n",
              "\n",
              "   visitStartTime bounces hits newVisits pageviews transactionRevenue visits  \n",
              "0      1472830385       1    1         1         1                NaN      1  \n",
              "1      1472880147       1    1         1         1                NaN      1  "
            ]
          },
          "metadata": {
            "tags": []
          },
          "execution_count": 18
        }
      ]
    },
    {
      "metadata": {
        "id": "FUyg5CxOxZjB",
        "colab_type": "code",
        "colab": {}
      },
      "cell_type": "code",
      "source": [
        "train_rev = train[~train.transactionRevenue.isnull()]\n",
        "train_no_rev = train[train.transactionRevenue.isnull()]"
      ],
      "execution_count": 0,
      "outputs": []
    },
    {
      "metadata": {
        "id": "f1iwPWE_z0ZL",
        "colab_type": "code",
        "colab": {
          "base_uri": "https://localhost:8080/",
          "height": 0
        },
        "outputId": "024a81b6-ebc3-4b7d-dac8-8d2fa1765811"
      },
      "cell_type": "code",
      "source": [
        "train_rev.head(2)"
      ],
      "execution_count": 20,
      "outputs": [
        {
          "output_type": "execute_result",
          "data": {
            "text/html": [
              "<div>\n",
              "<style scoped>\n",
              "    .dataframe tbody tr th:only-of-type {\n",
              "        vertical-align: middle;\n",
              "    }\n",
              "\n",
              "    .dataframe tbody tr th {\n",
              "        vertical-align: top;\n",
              "    }\n",
              "\n",
              "    .dataframe thead th {\n",
              "        text-align: right;\n",
              "    }\n",
              "</style>\n",
              "<table border=\"1\" class=\"dataframe\">\n",
              "  <thead>\n",
              "    <tr style=\"text-align: right;\">\n",
              "      <th></th>\n",
              "      <th>channelGrouping</th>\n",
              "      <th>date</th>\n",
              "      <th>device</th>\n",
              "      <th>fullVisitorId</th>\n",
              "      <th>geoNetwork</th>\n",
              "      <th>sessionId</th>\n",
              "      <th>socialEngagementType</th>\n",
              "      <th>trafficSource</th>\n",
              "      <th>visitId</th>\n",
              "      <th>visitNumber</th>\n",
              "      <th>visitStartTime</th>\n",
              "      <th>bounces</th>\n",
              "      <th>hits</th>\n",
              "      <th>newVisits</th>\n",
              "      <th>pageviews</th>\n",
              "      <th>transactionRevenue</th>\n",
              "      <th>visits</th>\n",
              "    </tr>\n",
              "  </thead>\n",
              "  <tbody>\n",
              "    <tr>\n",
              "      <th>752</th>\n",
              "      <td>Direct</td>\n",
              "      <td>20160902</td>\n",
              "      <td>{\"browser\": \"Chrome\", \"browserVersion\": \"not a...</td>\n",
              "      <td>6194193421514403509</td>\n",
              "      <td>{\"continent\": \"Americas\", \"subContinent\": \"Nor...</td>\n",
              "      <td>6194193421514403509_1472843572</td>\n",
              "      <td>Not Socially Engaged</td>\n",
              "      <td>{\"campaign\": \"(not set)\", \"source\": \"(direct)\"...</td>\n",
              "      <td>1472843572</td>\n",
              "      <td>1</td>\n",
              "      <td>1472843572</td>\n",
              "      <td>NaN</td>\n",
              "      <td>11</td>\n",
              "      <td>1</td>\n",
              "      <td>11</td>\n",
              "      <td>37860000</td>\n",
              "      <td>1</td>\n",
              "    </tr>\n",
              "    <tr>\n",
              "      <th>753</th>\n",
              "      <td>Organic Search</td>\n",
              "      <td>20160902</td>\n",
              "      <td>{\"browser\": \"Chrome\", \"browserVersion\": \"not a...</td>\n",
              "      <td>5327166854580374902</td>\n",
              "      <td>{\"continent\": \"Americas\", \"subContinent\": \"Nor...</td>\n",
              "      <td>5327166854580374902_1472844906</td>\n",
              "      <td>Not Socially Engaged</td>\n",
              "      <td>{\"campaign\": \"(not set)\", \"source\": \"google\", ...</td>\n",
              "      <td>1472844906</td>\n",
              "      <td>3</td>\n",
              "      <td>1472844906</td>\n",
              "      <td>NaN</td>\n",
              "      <td>11</td>\n",
              "      <td>NaN</td>\n",
              "      <td>10</td>\n",
              "      <td>306670000</td>\n",
              "      <td>1</td>\n",
              "    </tr>\n",
              "  </tbody>\n",
              "</table>\n",
              "</div>"
            ],
            "text/plain": [
              "    channelGrouping      date  \\\n",
              "752          Direct  20160902   \n",
              "753  Organic Search  20160902   \n",
              "\n",
              "                                                device        fullVisitorId  \\\n",
              "752  {\"browser\": \"Chrome\", \"browserVersion\": \"not a...  6194193421514403509   \n",
              "753  {\"browser\": \"Chrome\", \"browserVersion\": \"not a...  5327166854580374902   \n",
              "\n",
              "                                            geoNetwork  \\\n",
              "752  {\"continent\": \"Americas\", \"subContinent\": \"Nor...   \n",
              "753  {\"continent\": \"Americas\", \"subContinent\": \"Nor...   \n",
              "\n",
              "                          sessionId  socialEngagementType  \\\n",
              "752  6194193421514403509_1472843572  Not Socially Engaged   \n",
              "753  5327166854580374902_1472844906  Not Socially Engaged   \n",
              "\n",
              "                                         trafficSource     visitId  \\\n",
              "752  {\"campaign\": \"(not set)\", \"source\": \"(direct)\"...  1472843572   \n",
              "753  {\"campaign\": \"(not set)\", \"source\": \"google\", ...  1472844906   \n",
              "\n",
              "     visitNumber  visitStartTime bounces hits newVisits pageviews  \\\n",
              "752            1      1472843572     NaN   11         1        11   \n",
              "753            3      1472844906     NaN   11       NaN        10   \n",
              "\n",
              "    transactionRevenue visits  \n",
              "752           37860000      1  \n",
              "753          306670000      1  "
            ]
          },
          "metadata": {
            "tags": []
          },
          "execution_count": 20
        }
      ]
    },
    {
      "metadata": {
        "id": "RXotrJVM3Y7c",
        "colab_type": "code",
        "colab": {
          "base_uri": "https://localhost:8080/",
          "height": 0
        },
        "outputId": "cc64bb8f-b8b7-4d75-d611-e56f0b93369f"
      },
      "cell_type": "code",
      "source": [
        "train_rev.shape"
      ],
      "execution_count": 21,
      "outputs": [
        {
          "output_type": "execute_result",
          "data": {
            "text/plain": [
              "(11515, 17)"
            ]
          },
          "metadata": {
            "tags": []
          },
          "execution_count": 21
        }
      ]
    },
    {
      "metadata": {
        "id": "HScEr1Cf0GQA",
        "colab_type": "code",
        "colab": {
          "base_uri": "https://localhost:8080/",
          "height": 0
        },
        "outputId": "8afeb889-8424-42f9-ca9e-c551689e2137"
      },
      "cell_type": "code",
      "source": [
        "train_no_rev.head(2)"
      ],
      "execution_count": 22,
      "outputs": [
        {
          "output_type": "execute_result",
          "data": {
            "text/html": [
              "<div>\n",
              "<style scoped>\n",
              "    .dataframe tbody tr th:only-of-type {\n",
              "        vertical-align: middle;\n",
              "    }\n",
              "\n",
              "    .dataframe tbody tr th {\n",
              "        vertical-align: top;\n",
              "    }\n",
              "\n",
              "    .dataframe thead th {\n",
              "        text-align: right;\n",
              "    }\n",
              "</style>\n",
              "<table border=\"1\" class=\"dataframe\">\n",
              "  <thead>\n",
              "    <tr style=\"text-align: right;\">\n",
              "      <th></th>\n",
              "      <th>channelGrouping</th>\n",
              "      <th>date</th>\n",
              "      <th>device</th>\n",
              "      <th>fullVisitorId</th>\n",
              "      <th>geoNetwork</th>\n",
              "      <th>sessionId</th>\n",
              "      <th>socialEngagementType</th>\n",
              "      <th>trafficSource</th>\n",
              "      <th>visitId</th>\n",
              "      <th>visitNumber</th>\n",
              "      <th>visitStartTime</th>\n",
              "      <th>bounces</th>\n",
              "      <th>hits</th>\n",
              "      <th>newVisits</th>\n",
              "      <th>pageviews</th>\n",
              "      <th>transactionRevenue</th>\n",
              "      <th>visits</th>\n",
              "    </tr>\n",
              "  </thead>\n",
              "  <tbody>\n",
              "    <tr>\n",
              "      <th>0</th>\n",
              "      <td>Organic Search</td>\n",
              "      <td>20160902</td>\n",
              "      <td>{\"browser\": \"Chrome\", \"browserVersion\": \"not a...</td>\n",
              "      <td>1131660440785968503</td>\n",
              "      <td>{\"continent\": \"Asia\", \"subContinent\": \"Western...</td>\n",
              "      <td>1131660440785968503_1472830385</td>\n",
              "      <td>Not Socially Engaged</td>\n",
              "      <td>{\"campaign\": \"(not set)\", \"source\": \"google\", ...</td>\n",
              "      <td>1472830385</td>\n",
              "      <td>1</td>\n",
              "      <td>1472830385</td>\n",
              "      <td>1</td>\n",
              "      <td>1</td>\n",
              "      <td>1</td>\n",
              "      <td>1</td>\n",
              "      <td>NaN</td>\n",
              "      <td>1</td>\n",
              "    </tr>\n",
              "    <tr>\n",
              "      <th>1</th>\n",
              "      <td>Organic Search</td>\n",
              "      <td>20160902</td>\n",
              "      <td>{\"browser\": \"Firefox\", \"browserVersion\": \"not ...</td>\n",
              "      <td>377306020877927890</td>\n",
              "      <td>{\"continent\": \"Oceania\", \"subContinent\": \"Aust...</td>\n",
              "      <td>377306020877927890_1472880147</td>\n",
              "      <td>Not Socially Engaged</td>\n",
              "      <td>{\"campaign\": \"(not set)\", \"source\": \"google\", ...</td>\n",
              "      <td>1472880147</td>\n",
              "      <td>1</td>\n",
              "      <td>1472880147</td>\n",
              "      <td>1</td>\n",
              "      <td>1</td>\n",
              "      <td>1</td>\n",
              "      <td>1</td>\n",
              "      <td>NaN</td>\n",
              "      <td>1</td>\n",
              "    </tr>\n",
              "  </tbody>\n",
              "</table>\n",
              "</div>"
            ],
            "text/plain": [
              "  channelGrouping      date  \\\n",
              "0  Organic Search  20160902   \n",
              "1  Organic Search  20160902   \n",
              "\n",
              "                                              device        fullVisitorId  \\\n",
              "0  {\"browser\": \"Chrome\", \"browserVersion\": \"not a...  1131660440785968503   \n",
              "1  {\"browser\": \"Firefox\", \"browserVersion\": \"not ...   377306020877927890   \n",
              "\n",
              "                                          geoNetwork  \\\n",
              "0  {\"continent\": \"Asia\", \"subContinent\": \"Western...   \n",
              "1  {\"continent\": \"Oceania\", \"subContinent\": \"Aust...   \n",
              "\n",
              "                        sessionId  socialEngagementType  \\\n",
              "0  1131660440785968503_1472830385  Not Socially Engaged   \n",
              "1   377306020877927890_1472880147  Not Socially Engaged   \n",
              "\n",
              "                                       trafficSource     visitId  visitNumber  \\\n",
              "0  {\"campaign\": \"(not set)\", \"source\": \"google\", ...  1472830385            1   \n",
              "1  {\"campaign\": \"(not set)\", \"source\": \"google\", ...  1472880147            1   \n",
              "\n",
              "   visitStartTime bounces hits newVisits pageviews transactionRevenue visits  \n",
              "0      1472830385       1    1         1         1                NaN      1  \n",
              "1      1472880147       1    1         1         1                NaN      1  "
            ]
          },
          "metadata": {
            "tags": []
          },
          "execution_count": 22
        }
      ]
    },
    {
      "metadata": {
        "id": "nx6_9Nu73Zyi",
        "colab_type": "code",
        "colab": {
          "base_uri": "https://localhost:8080/",
          "height": 0
        },
        "outputId": "f69d7418-3e54-4ea7-bfd3-d0f8359f71f2"
      },
      "cell_type": "code",
      "source": [
        "train_no_rev.shape"
      ],
      "execution_count": 23,
      "outputs": [
        {
          "output_type": "execute_result",
          "data": {
            "text/plain": [
              "(892138, 17)"
            ]
          },
          "metadata": {
            "tags": []
          },
          "execution_count": 23
        }
      ]
    },
    {
      "metadata": {
        "id": "yXALrk-AdMH9",
        "colab_type": "code",
        "colab": {}
      },
      "cell_type": "code",
      "source": [
        "train_no_rev = train_no_rev.sample(n=train_rev.shape[0])"
      ],
      "execution_count": 0,
      "outputs": []
    },
    {
      "metadata": {
        "id": "54AFAHI04g6s",
        "colab_type": "text"
      },
      "cell_type": "markdown",
      "source": [
        "### Merge rows with target with random number of samples without target for further classification"
      ]
    },
    {
      "metadata": {
        "id": "Li_2IYQh4Hsg",
        "colab_type": "code",
        "colab": {}
      },
      "cell_type": "code",
      "source": [
        "train_clf = pd.concat([train_rev, train_no_rev])"
      ],
      "execution_count": 0,
      "outputs": []
    },
    {
      "metadata": {
        "id": "1YBIZvnU1Gzp",
        "colab_type": "code",
        "colab": {
          "base_uri": "https://localhost:8080/",
          "height": 0
        },
        "outputId": "c56686a3-be81-4376-9cc4-d92bc3ec065f"
      },
      "cell_type": "code",
      "source": [
        "train_clf.shape"
      ],
      "execution_count": 26,
      "outputs": [
        {
          "output_type": "execute_result",
          "data": {
            "text/plain": [
              "(23030, 17)"
            ]
          },
          "metadata": {
            "tags": []
          },
          "execution_count": 26
        }
      ]
    },
    {
      "metadata": {
        "id": "-mPjnEhp1GnT",
        "colab_type": "code",
        "colab": {
          "base_uri": "https://localhost:8080/",
          "height": 0
        },
        "outputId": "0b5d03b6-4fd0-468f-8747-d904dca6ff44"
      },
      "cell_type": "code",
      "source": [
        "train_clf.head(2)"
      ],
      "execution_count": 27,
      "outputs": [
        {
          "output_type": "execute_result",
          "data": {
            "text/html": [
              "<div>\n",
              "<style scoped>\n",
              "    .dataframe tbody tr th:only-of-type {\n",
              "        vertical-align: middle;\n",
              "    }\n",
              "\n",
              "    .dataframe tbody tr th {\n",
              "        vertical-align: top;\n",
              "    }\n",
              "\n",
              "    .dataframe thead th {\n",
              "        text-align: right;\n",
              "    }\n",
              "</style>\n",
              "<table border=\"1\" class=\"dataframe\">\n",
              "  <thead>\n",
              "    <tr style=\"text-align: right;\">\n",
              "      <th></th>\n",
              "      <th>channelGrouping</th>\n",
              "      <th>date</th>\n",
              "      <th>device</th>\n",
              "      <th>fullVisitorId</th>\n",
              "      <th>geoNetwork</th>\n",
              "      <th>sessionId</th>\n",
              "      <th>socialEngagementType</th>\n",
              "      <th>trafficSource</th>\n",
              "      <th>visitId</th>\n",
              "      <th>visitNumber</th>\n",
              "      <th>visitStartTime</th>\n",
              "      <th>bounces</th>\n",
              "      <th>hits</th>\n",
              "      <th>newVisits</th>\n",
              "      <th>pageviews</th>\n",
              "      <th>transactionRevenue</th>\n",
              "      <th>visits</th>\n",
              "    </tr>\n",
              "  </thead>\n",
              "  <tbody>\n",
              "    <tr>\n",
              "      <th>752</th>\n",
              "      <td>Direct</td>\n",
              "      <td>20160902</td>\n",
              "      <td>{\"browser\": \"Chrome\", \"browserVersion\": \"not a...</td>\n",
              "      <td>6194193421514403509</td>\n",
              "      <td>{\"continent\": \"Americas\", \"subContinent\": \"Nor...</td>\n",
              "      <td>6194193421514403509_1472843572</td>\n",
              "      <td>Not Socially Engaged</td>\n",
              "      <td>{\"campaign\": \"(not set)\", \"source\": \"(direct)\"...</td>\n",
              "      <td>1472843572</td>\n",
              "      <td>1</td>\n",
              "      <td>1472843572</td>\n",
              "      <td>NaN</td>\n",
              "      <td>11</td>\n",
              "      <td>1</td>\n",
              "      <td>11</td>\n",
              "      <td>37860000</td>\n",
              "      <td>1</td>\n",
              "    </tr>\n",
              "    <tr>\n",
              "      <th>753</th>\n",
              "      <td>Organic Search</td>\n",
              "      <td>20160902</td>\n",
              "      <td>{\"browser\": \"Chrome\", \"browserVersion\": \"not a...</td>\n",
              "      <td>5327166854580374902</td>\n",
              "      <td>{\"continent\": \"Americas\", \"subContinent\": \"Nor...</td>\n",
              "      <td>5327166854580374902_1472844906</td>\n",
              "      <td>Not Socially Engaged</td>\n",
              "      <td>{\"campaign\": \"(not set)\", \"source\": \"google\", ...</td>\n",
              "      <td>1472844906</td>\n",
              "      <td>3</td>\n",
              "      <td>1472844906</td>\n",
              "      <td>NaN</td>\n",
              "      <td>11</td>\n",
              "      <td>NaN</td>\n",
              "      <td>10</td>\n",
              "      <td>306670000</td>\n",
              "      <td>1</td>\n",
              "    </tr>\n",
              "  </tbody>\n",
              "</table>\n",
              "</div>"
            ],
            "text/plain": [
              "    channelGrouping      date  \\\n",
              "752          Direct  20160902   \n",
              "753  Organic Search  20160902   \n",
              "\n",
              "                                                device        fullVisitorId  \\\n",
              "752  {\"browser\": \"Chrome\", \"browserVersion\": \"not a...  6194193421514403509   \n",
              "753  {\"browser\": \"Chrome\", \"browserVersion\": \"not a...  5327166854580374902   \n",
              "\n",
              "                                            geoNetwork  \\\n",
              "752  {\"continent\": \"Americas\", \"subContinent\": \"Nor...   \n",
              "753  {\"continent\": \"Americas\", \"subContinent\": \"Nor...   \n",
              "\n",
              "                          sessionId  socialEngagementType  \\\n",
              "752  6194193421514403509_1472843572  Not Socially Engaged   \n",
              "753  5327166854580374902_1472844906  Not Socially Engaged   \n",
              "\n",
              "                                         trafficSource     visitId  \\\n",
              "752  {\"campaign\": \"(not set)\", \"source\": \"(direct)\"...  1472843572   \n",
              "753  {\"campaign\": \"(not set)\", \"source\": \"google\", ...  1472844906   \n",
              "\n",
              "     visitNumber  visitStartTime bounces hits newVisits pageviews  \\\n",
              "752            1      1472843572     NaN   11         1        11   \n",
              "753            3      1472844906     NaN   11       NaN        10   \n",
              "\n",
              "    transactionRevenue visits  \n",
              "752           37860000      1  \n",
              "753          306670000      1  "
            ]
          },
          "metadata": {
            "tags": []
          },
          "execution_count": 27
        }
      ]
    },
    {
      "metadata": {
        "id": "IjhoXJPE4XWA",
        "colab_type": "code",
        "colab": {}
      },
      "cell_type": "code",
      "source": [
        "cols_json = [\"device\", \"geoNetwork\", \"trafficSource\"]"
      ],
      "execution_count": 0,
      "outputs": []
    },
    {
      "metadata": {
        "id": "auU1fW284XKV",
        "colab_type": "code",
        "colab": {}
      },
      "cell_type": "code",
      "source": [
        "df_lst = []\n",
        "for col in cols_json:\n",
        "  df_cur = train_clf[col].apply(json.loads).apply(pd.Series)\n",
        "  df_lst.append(df_cur)"
      ],
      "execution_count": 0,
      "outputs": []
    },
    {
      "metadata": {
        "id": "cSG5Atme4_f4",
        "colab_type": "code",
        "colab": {}
      },
      "cell_type": "code",
      "source": [
        "train_clf.drop(cols_json, axis=1, inplace=True)"
      ],
      "execution_count": 0,
      "outputs": []
    },
    {
      "metadata": {
        "id": "_kFIDvI65Rr2",
        "colab_type": "code",
        "colab": {}
      },
      "cell_type": "code",
      "source": [
        "train_clf = pd.concat([train_clf, *df_lst], axis=1)"
      ],
      "execution_count": 0,
      "outputs": []
    },
    {
      "metadata": {
        "id": "KdSFlIwA5Rgk",
        "colab_type": "code",
        "colab": {
          "base_uri": "https://localhost:8080/",
          "height": 0
        },
        "outputId": "f677d12b-da70-40f3-b436-5a2eca4958ac"
      },
      "cell_type": "code",
      "source": [
        "train_clf.head(2)"
      ],
      "execution_count": 32,
      "outputs": [
        {
          "output_type": "execute_result",
          "data": {
            "text/html": [
              "<div>\n",
              "<style scoped>\n",
              "    .dataframe tbody tr th:only-of-type {\n",
              "        vertical-align: middle;\n",
              "    }\n",
              "\n",
              "    .dataframe tbody tr th {\n",
              "        vertical-align: top;\n",
              "    }\n",
              "\n",
              "    .dataframe thead th {\n",
              "        text-align: right;\n",
              "    }\n",
              "</style>\n",
              "<table border=\"1\" class=\"dataframe\">\n",
              "  <thead>\n",
              "    <tr style=\"text-align: right;\">\n",
              "      <th></th>\n",
              "      <th>channelGrouping</th>\n",
              "      <th>date</th>\n",
              "      <th>fullVisitorId</th>\n",
              "      <th>sessionId</th>\n",
              "      <th>socialEngagementType</th>\n",
              "      <th>visitId</th>\n",
              "      <th>visitNumber</th>\n",
              "      <th>visitStartTime</th>\n",
              "      <th>bounces</th>\n",
              "      <th>hits</th>\n",
              "      <th>...</th>\n",
              "      <th>region</th>\n",
              "      <th>subContinent</th>\n",
              "      <th>adContent</th>\n",
              "      <th>adwordsClickInfo</th>\n",
              "      <th>campaign</th>\n",
              "      <th>isTrueDirect</th>\n",
              "      <th>keyword</th>\n",
              "      <th>medium</th>\n",
              "      <th>referralPath</th>\n",
              "      <th>source</th>\n",
              "    </tr>\n",
              "  </thead>\n",
              "  <tbody>\n",
              "    <tr>\n",
              "      <th>752</th>\n",
              "      <td>Direct</td>\n",
              "      <td>20160902</td>\n",
              "      <td>6194193421514403509</td>\n",
              "      <td>6194193421514403509_1472843572</td>\n",
              "      <td>Not Socially Engaged</td>\n",
              "      <td>1472843572</td>\n",
              "      <td>1</td>\n",
              "      <td>1472843572</td>\n",
              "      <td>NaN</td>\n",
              "      <td>11</td>\n",
              "      <td>...</td>\n",
              "      <td>Michigan</td>\n",
              "      <td>Northern America</td>\n",
              "      <td>NaN</td>\n",
              "      <td>{'criteriaParameters': 'not available in demo ...</td>\n",
              "      <td>(not set)</td>\n",
              "      <td>True</td>\n",
              "      <td>NaN</td>\n",
              "      <td>(none)</td>\n",
              "      <td>NaN</td>\n",
              "      <td>(direct)</td>\n",
              "    </tr>\n",
              "    <tr>\n",
              "      <th>753</th>\n",
              "      <td>Organic Search</td>\n",
              "      <td>20160902</td>\n",
              "      <td>5327166854580374902</td>\n",
              "      <td>5327166854580374902_1472844906</td>\n",
              "      <td>Not Socially Engaged</td>\n",
              "      <td>1472844906</td>\n",
              "      <td>3</td>\n",
              "      <td>1472844906</td>\n",
              "      <td>NaN</td>\n",
              "      <td>11</td>\n",
              "      <td>...</td>\n",
              "      <td>New York</td>\n",
              "      <td>Northern America</td>\n",
              "      <td>NaN</td>\n",
              "      <td>{'criteriaParameters': 'not available in demo ...</td>\n",
              "      <td>(not set)</td>\n",
              "      <td>True</td>\n",
              "      <td>(not provided)</td>\n",
              "      <td>organic</td>\n",
              "      <td>NaN</td>\n",
              "      <td>google</td>\n",
              "    </tr>\n",
              "  </tbody>\n",
              "</table>\n",
              "<p>2 rows × 49 columns</p>\n",
              "</div>"
            ],
            "text/plain": [
              "    channelGrouping      date        fullVisitorId  \\\n",
              "752          Direct  20160902  6194193421514403509   \n",
              "753  Organic Search  20160902  5327166854580374902   \n",
              "\n",
              "                          sessionId  socialEngagementType     visitId  \\\n",
              "752  6194193421514403509_1472843572  Not Socially Engaged  1472843572   \n",
              "753  5327166854580374902_1472844906  Not Socially Engaged  1472844906   \n",
              "\n",
              "     visitNumber  visitStartTime bounces hits    ...       region  \\\n",
              "752            1      1472843572     NaN   11    ...     Michigan   \n",
              "753            3      1472844906     NaN   11    ...     New York   \n",
              "\n",
              "         subContinent adContent  \\\n",
              "752  Northern America       NaN   \n",
              "753  Northern America       NaN   \n",
              "\n",
              "                                      adwordsClickInfo   campaign  \\\n",
              "752  {'criteriaParameters': 'not available in demo ...  (not set)   \n",
              "753  {'criteriaParameters': 'not available in demo ...  (not set)   \n",
              "\n",
              "    isTrueDirect         keyword   medium referralPath    source  \n",
              "752         True             NaN   (none)          NaN  (direct)  \n",
              "753         True  (not provided)  organic          NaN    google  \n",
              "\n",
              "[2 rows x 49 columns]"
            ]
          },
          "metadata": {
            "tags": []
          },
          "execution_count": 32
        }
      ]
    },
    {
      "metadata": {
        "id": "e8hJMdq68E_D",
        "colab_type": "code",
        "colab": {}
      },
      "cell_type": "code",
      "source": [
        "train_ad = train_clf.adwordsClickInfo.apply(pd.Series)\n",
        "train_clf.drop([\"adwordsClickInfo\"], axis=1, inplace=True)\n",
        "train_clf = pd.concat([train_clf, train_ad], axis=1)"
      ],
      "execution_count": 0,
      "outputs": []
    },
    {
      "metadata": {
        "id": "WAaeqdc89iKN",
        "colab_type": "text"
      },
      "cell_type": "markdown",
      "source": [
        "## Process the resulting cols"
      ]
    },
    {
      "metadata": {
        "id": "_iHPA89x8FZJ",
        "colab_type": "code",
        "colab": {
          "base_uri": "https://localhost:8080/",
          "height": 196
        },
        "outputId": "27310264-97db-487c-c6f2-4c7a2903f2e0"
      },
      "cell_type": "code",
      "source": [
        "train_clf.head(2)"
      ],
      "execution_count": 34,
      "outputs": [
        {
          "output_type": "execute_result",
          "data": {
            "text/html": [
              "<div>\n",
              "<style scoped>\n",
              "    .dataframe tbody tr th:only-of-type {\n",
              "        vertical-align: middle;\n",
              "    }\n",
              "\n",
              "    .dataframe tbody tr th {\n",
              "        vertical-align: top;\n",
              "    }\n",
              "\n",
              "    .dataframe thead th {\n",
              "        text-align: right;\n",
              "    }\n",
              "</style>\n",
              "<table border=\"1\" class=\"dataframe\">\n",
              "  <thead>\n",
              "    <tr style=\"text-align: right;\">\n",
              "      <th></th>\n",
              "      <th>channelGrouping</th>\n",
              "      <th>date</th>\n",
              "      <th>fullVisitorId</th>\n",
              "      <th>sessionId</th>\n",
              "      <th>socialEngagementType</th>\n",
              "      <th>visitId</th>\n",
              "      <th>visitNumber</th>\n",
              "      <th>visitStartTime</th>\n",
              "      <th>bounces</th>\n",
              "      <th>hits</th>\n",
              "      <th>...</th>\n",
              "      <th>medium</th>\n",
              "      <th>referralPath</th>\n",
              "      <th>source</th>\n",
              "      <th>adNetworkType</th>\n",
              "      <th>criteriaParameters</th>\n",
              "      <th>gclId</th>\n",
              "      <th>isVideoAd</th>\n",
              "      <th>page</th>\n",
              "      <th>slot</th>\n",
              "      <th>targetingCriteria</th>\n",
              "    </tr>\n",
              "  </thead>\n",
              "  <tbody>\n",
              "    <tr>\n",
              "      <th>752</th>\n",
              "      <td>Direct</td>\n",
              "      <td>20160902</td>\n",
              "      <td>6194193421514403509</td>\n",
              "      <td>6194193421514403509_1472843572</td>\n",
              "      <td>Not Socially Engaged</td>\n",
              "      <td>1472843572</td>\n",
              "      <td>1</td>\n",
              "      <td>1472843572</td>\n",
              "      <td>NaN</td>\n",
              "      <td>11</td>\n",
              "      <td>...</td>\n",
              "      <td>(none)</td>\n",
              "      <td>NaN</td>\n",
              "      <td>(direct)</td>\n",
              "      <td>NaN</td>\n",
              "      <td>not available in demo dataset</td>\n",
              "      <td>NaN</td>\n",
              "      <td>NaN</td>\n",
              "      <td>NaN</td>\n",
              "      <td>NaN</td>\n",
              "      <td>NaN</td>\n",
              "    </tr>\n",
              "    <tr>\n",
              "      <th>753</th>\n",
              "      <td>Organic Search</td>\n",
              "      <td>20160902</td>\n",
              "      <td>5327166854580374902</td>\n",
              "      <td>5327166854580374902_1472844906</td>\n",
              "      <td>Not Socially Engaged</td>\n",
              "      <td>1472844906</td>\n",
              "      <td>3</td>\n",
              "      <td>1472844906</td>\n",
              "      <td>NaN</td>\n",
              "      <td>11</td>\n",
              "      <td>...</td>\n",
              "      <td>organic</td>\n",
              "      <td>NaN</td>\n",
              "      <td>google</td>\n",
              "      <td>NaN</td>\n",
              "      <td>not available in demo dataset</td>\n",
              "      <td>NaN</td>\n",
              "      <td>NaN</td>\n",
              "      <td>NaN</td>\n",
              "      <td>NaN</td>\n",
              "      <td>NaN</td>\n",
              "    </tr>\n",
              "  </tbody>\n",
              "</table>\n",
              "<p>2 rows × 55 columns</p>\n",
              "</div>"
            ],
            "text/plain": [
              "    channelGrouping      date        fullVisitorId  \\\n",
              "752          Direct  20160902  6194193421514403509   \n",
              "753  Organic Search  20160902  5327166854580374902   \n",
              "\n",
              "                          sessionId  socialEngagementType     visitId  \\\n",
              "752  6194193421514403509_1472843572  Not Socially Engaged  1472843572   \n",
              "753  5327166854580374902_1472844906  Not Socially Engaged  1472844906   \n",
              "\n",
              "     visitNumber  visitStartTime bounces hits        ...           medium  \\\n",
              "752            1      1472843572     NaN   11        ...           (none)   \n",
              "753            3      1472844906     NaN   11        ...          organic   \n",
              "\n",
              "    referralPath    source adNetworkType             criteriaParameters gclId  \\\n",
              "752          NaN  (direct)           NaN  not available in demo dataset   NaN   \n",
              "753          NaN    google           NaN  not available in demo dataset   NaN   \n",
              "\n",
              "    isVideoAd page slot  targetingCriteria  \n",
              "752       NaN  NaN  NaN                NaN  \n",
              "753       NaN  NaN  NaN                NaN  \n",
              "\n",
              "[2 rows x 55 columns]"
            ]
          },
          "metadata": {
            "tags": []
          },
          "execution_count": 34
        }
      ]
    },
    {
      "metadata": {
        "id": "xSPR0gwZ8rSh",
        "colab_type": "code",
        "colab": {
          "base_uri": "https://localhost:8080/",
          "height": 279
        },
        "outputId": "86903572-96ea-4d8f-e999-3db07f586497"
      },
      "cell_type": "code",
      "source": [
        "train_clf.columns"
      ],
      "execution_count": 35,
      "outputs": [
        {
          "output_type": "execute_result",
          "data": {
            "text/plain": [
              "Index(['channelGrouping', 'date', 'fullVisitorId', 'sessionId',\n",
              "       'socialEngagementType', 'visitId', 'visitNumber', 'visitStartTime',\n",
              "       'bounces', 'hits', 'newVisits', 'pageviews', 'transactionRevenue',\n",
              "       'visits', 'browser', 'browserSize', 'browserVersion', 'deviceCategory',\n",
              "       'flashVersion', 'isMobile', 'language', 'mobileDeviceBranding',\n",
              "       'mobileDeviceInfo', 'mobileDeviceMarketingName', 'mobileDeviceModel',\n",
              "       'mobileInputSelector', 'operatingSystem', 'operatingSystemVersion',\n",
              "       'screenColors', 'screenResolution', 'city', 'cityId', 'continent',\n",
              "       'country', 'latitude', 'longitude', 'metro', 'networkDomain',\n",
              "       'networkLocation', 'region', 'subContinent', 'adContent', 'campaign',\n",
              "       'isTrueDirect', 'keyword', 'medium', 'referralPath', 'source',\n",
              "       'adNetworkType', 'criteriaParameters', 'gclId', 'isVideoAd', 'page',\n",
              "       'slot', 'targetingCriteria'],\n",
              "      dtype='object')"
            ]
          },
          "metadata": {
            "tags": []
          },
          "execution_count": 35
        }
      ]
    },
    {
      "metadata": {
        "id": "IrjQk7isDSVp",
        "colab_type": "text"
      },
      "cell_type": "markdown",
      "source": [
        "### Replace train_clf.channelGrouping with categorical numbering"
      ]
    },
    {
      "metadata": {
        "id": "bQpvQheG8rJK",
        "colab_type": "code",
        "colab": {
          "base_uri": "https://localhost:8080/",
          "height": 0
        },
        "outputId": "4de3d30f-1ad7-4338-a5f2-5fd5b31ab65a"
      },
      "cell_type": "code",
      "source": [
        "train_clf.channelGrouping.unique()"
      ],
      "execution_count": 36,
      "outputs": [
        {
          "output_type": "execute_result",
          "data": {
            "text/plain": [
              "array(['Direct', 'Organic Search', 'Referral', 'Display', 'Paid Search',\n",
              "       'Social', 'Affiliates', '(Other)'], dtype=object)"
            ]
          },
          "metadata": {
            "tags": []
          },
          "execution_count": 36
        }
      ]
    },
    {
      "metadata": {
        "id": "hN5GKtNY8q7b",
        "colab_type": "code",
        "colab": {}
      },
      "cell_type": "code",
      "source": [
        "le = LabelEncoder()"
      ],
      "execution_count": 0,
      "outputs": []
    },
    {
      "metadata": {
        "id": "L1TqsTkO9VrL",
        "colab_type": "code",
        "colab": {
          "base_uri": "https://localhost:8080/",
          "height": 0
        },
        "outputId": "96142151-73f7-4d89-bc76-d9ef71e38e5b"
      },
      "cell_type": "code",
      "source": [
        "train_clf[\"channelGrouping\"] = le.fit_transform(train_clf.channelGrouping)\n",
        "train_clf.channelGrouping[:3]"
      ],
      "execution_count": 38,
      "outputs": [
        {
          "output_type": "execute_result",
          "data": {
            "text/plain": [
              "752    2\n",
              "753    4\n",
              "799    6\n",
              "Name: channelGrouping, dtype: int64"
            ]
          },
          "metadata": {
            "tags": []
          },
          "execution_count": 38
        }
      ]
    },
    {
      "metadata": {
        "id": "BAXHZWEnFH2D",
        "colab_type": "text"
      },
      "cell_type": "markdown",
      "source": [
        "### Treat train_clf.date"
      ]
    },
    {
      "metadata": {
        "id": "fFAduVkI9Ve6",
        "colab_type": "code",
        "colab": {
          "base_uri": "https://localhost:8080/",
          "height": 92
        },
        "outputId": "b3b4b858-9559-4f08-819e-7ca39d1047f9"
      },
      "cell_type": "code",
      "source": [
        "train_clf.date[:3]"
      ],
      "execution_count": 39,
      "outputs": [
        {
          "output_type": "execute_result",
          "data": {
            "text/plain": [
              "752    20160902\n",
              "753    20160902\n",
              "799    20160902\n",
              "Name: date, dtype: int64"
            ]
          },
          "metadata": {
            "tags": []
          },
          "execution_count": 39
        }
      ]
    },
    {
      "metadata": {
        "id": "DmiCLi_gFTT3",
        "colab_type": "code",
        "colab": {
          "base_uri": "https://localhost:8080/",
          "height": 73
        },
        "outputId": "2c853964-a757-4e0f-ba5c-99b9357fcc40"
      },
      "cell_type": "code",
      "source": [
        "train_clf[\"date\"] = pd.to_datetime(train_clf.date.apply(str))[:2]\n",
        "train_clf.date[:2]"
      ],
      "execution_count": 42,
      "outputs": [
        {
          "output_type": "execute_result",
          "data": {
            "text/plain": [
              "752   2016-09-02\n",
              "753   2016-09-02\n",
              "Name: date, dtype: datetime64[ns]"
            ]
          },
          "metadata": {
            "tags": []
          },
          "execution_count": 42
        }
      ]
    },
    {
      "metadata": {
        "id": "lN0ocQuiR1gY",
        "colab_type": "code",
        "colab": {}
      },
      "cell_type": "code",
      "source": [
        "train_clf[\"year\"] = pd.DatetimeIndex(train_clf.date).year \n",
        "train_clf.year[:2]"
      ],
      "execution_count": 0,
      "outputs": []
    },
    {
      "metadata": {
        "id": "c0fgdZ3MS4YM",
        "colab_type": "code",
        "colab": {
          "base_uri": "https://localhost:8080/",
          "height": 73
        },
        "outputId": "3f580437-2ec8-40ed-9e4d-d8e097fe6494"
      },
      "cell_type": "code",
      "source": [
        "train_clf[\"month\"] = pd.DatetimeIndex(train_clf.date).month\n",
        "train_clf.month[:2]"
      ],
      "execution_count": 56,
      "outputs": [
        {
          "output_type": "execute_result",
          "data": {
            "text/plain": [
              "752    9.0\n",
              "753    9.0\n",
              "Name: month, dtype: float64"
            ]
          },
          "metadata": {
            "tags": []
          },
          "execution_count": 56
        }
      ]
    },
    {
      "metadata": {
        "id": "slbzTiPtTF59",
        "colab_type": "code",
        "colab": {
          "base_uri": "https://localhost:8080/",
          "height": 73
        },
        "outputId": "3c8b3160-0eaa-4298-8202-13ca81dcda1c"
      },
      "cell_type": "code",
      "source": [
        "train_clf[\"day\"] = pd.DatetimeIndex(train_clf.date).day\n",
        "train_clf.day[:2]"
      ],
      "execution_count": 57,
      "outputs": [
        {
          "output_type": "execute_result",
          "data": {
            "text/plain": [
              "752    2.0\n",
              "753    2.0\n",
              "Name: day, dtype: float64"
            ]
          },
          "metadata": {
            "tags": []
          },
          "execution_count": 57
        }
      ]
    },
    {
      "metadata": {
        "id": "9G_eOdOKTJ6N",
        "colab_type": "code",
        "colab": {}
      },
      "cell_type": "code",
      "source": [
        ""
      ],
      "execution_count": 0,
      "outputs": []
    },
    {
      "metadata": {
        "id": "0ZOxh4ofL72Z",
        "colab_type": "text"
      },
      "cell_type": "markdown",
      "source": [
        "### Treat social engagement type"
      ]
    },
    {
      "metadata": {
        "id": "mHUWg6e2LHOZ",
        "colab_type": "code",
        "colab": {
          "base_uri": "https://localhost:8080/",
          "height": 36
        },
        "outputId": "8399960c-d461-4e87-ebf0-f23724df9bb3"
      },
      "cell_type": "code",
      "source": [
        "train_clf.socialEngagementType.unique()"
      ],
      "execution_count": 44,
      "outputs": [
        {
          "output_type": "execute_result",
          "data": {
            "text/plain": [
              "array(['Not Socially Engaged'], dtype=object)"
            ]
          },
          "metadata": {
            "tags": []
          },
          "execution_count": 44
        }
      ]
    },
    {
      "metadata": {
        "id": "Fcz4YSG-LLBB",
        "colab_type": "code",
        "colab": {}
      },
      "cell_type": "code",
      "source": [
        "train_clf.drop([\"socialEngagementType\"], axis=1, inplace=True)"
      ],
      "execution_count": 0,
      "outputs": []
    },
    {
      "metadata": {
        "id": "pTx2elJBOS8Y",
        "colab_type": "text"
      },
      "cell_type": "markdown",
      "source": [
        "### Treat train_clf.bounces"
      ]
    },
    {
      "metadata": {
        "id": "LOBKVf3fQ0EM",
        "colab_type": "code",
        "colab": {
          "base_uri": "https://localhost:8080/",
          "height": 36
        },
        "outputId": "cde4d451-90c0-4846-9d8a-28e419095122"
      },
      "cell_type": "code",
      "source": [
        "train_clf.bounces.unique()"
      ],
      "execution_count": 51,
      "outputs": [
        {
          "output_type": "execute_result",
          "data": {
            "text/plain": [
              "array([nan, '1'], dtype=object)"
            ]
          },
          "metadata": {
            "tags": []
          },
          "execution_count": 51
        }
      ]
    },
    {
      "metadata": {
        "id": "hMiPSxlsLyG3",
        "colab_type": "code",
        "colab": {
          "base_uri": "https://localhost:8080/",
          "height": 36
        },
        "outputId": "cfb677f3-b64e-457c-a91c-3ef854d6db20"
      },
      "cell_type": "code",
      "source": [
        "train_clf.bounces.count()"
      ],
      "execution_count": 49,
      "outputs": [
        {
          "output_type": "execute_result",
          "data": {
            "text/plain": [
              "5781"
            ]
          },
          "metadata": {
            "tags": []
          },
          "execution_count": 49
        }
      ]
    },
    {
      "metadata": {
        "id": "hP3Y34zkQqRq",
        "colab_type": "code",
        "colab": {
          "base_uri": "https://localhost:8080/",
          "height": 36
        },
        "outputId": "43508cec-8d76-4345-c610-2680d8f7a0c0"
      },
      "cell_type": "code",
      "source": [
        "train_clf.bounces.shape"
      ],
      "execution_count": 50,
      "outputs": [
        {
          "output_type": "execute_result",
          "data": {
            "text/plain": [
              "(23030,)"
            ]
          },
          "metadata": {
            "tags": []
          },
          "execution_count": 50
        }
      ]
    },
    {
      "metadata": {
        "id": "m3algOwgOInP",
        "colab_type": "code",
        "colab": {}
      },
      "cell_type": "code",
      "source": [
        "train_clf.bounces.fillna(0, inplace=True)"
      ],
      "execution_count": 0,
      "outputs": []
    },
    {
      "metadata": {
        "id": "zOPALEzLRYg8",
        "colab_type": "text"
      },
      "cell_type": "markdown",
      "source": [
        "### Treat train_clf.hits"
      ]
    },
    {
      "metadata": {
        "id": "h76NctjKOJK5",
        "colab_type": "code",
        "colab": {}
      },
      "cell_type": "code",
      "source": [
        ""
      ],
      "execution_count": 0,
      "outputs": []
    },
    {
      "metadata": {
        "id": "tt9AnkxvRX4l",
        "colab_type": "code",
        "colab": {}
      },
      "cell_type": "code",
      "source": [
        ""
      ],
      "execution_count": 0,
      "outputs": []
    }
  ]
}