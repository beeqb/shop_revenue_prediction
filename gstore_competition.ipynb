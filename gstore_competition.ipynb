{
  "nbformat": 4,
  "nbformat_minor": 0,
  "metadata": {
    "colab": {
      "name": "gstore_competition.ipynb",
      "version": "0.3.2",
      "provenance": [],
      "include_colab_link": true
    },
    "kernelspec": {
      "name": "python3",
      "display_name": "Python 3"
    },
    "accelerator": "GPU"
  },
  "cells": [
    {
      "cell_type": "markdown",
      "metadata": {
        "id": "view-in-github",
        "colab_type": "text"
      },
      "source": [
        "<a href=\"https://colab.research.google.com/github/svarogjk/shop_revenue_prediction/blob/master/gstore_competition.ipynb\" target=\"_parent\"><img src=\"https://colab.research.google.com/assets/colab-badge.svg\" alt=\"Open In Colab\"/></a>"
      ]
    },
    {
      "metadata": {
        "id": "DDvZ-Q7ZEmEm",
        "colab_type": "text"
      },
      "cell_type": "markdown",
      "source": [
        "## Imports and Readings"
      ]
    },
    {
      "metadata": {
        "id": "32B4MFU2bCcA",
        "colab_type": "code",
        "colab": {}
      },
      "cell_type": "code",
      "source": [
        "import pandas as pd\n",
        "import numpy as np\n",
        "import os\n",
        "import matplotlib.pyplot as plt\n",
        "import seaborn as sns\n",
        "sns.set()\n",
        "current_palette = sns.color_palette()\n",
        "# from tqdm import tqdm_notebook\n",
        "%matplotlib inline \n",
        "import io\n",
        "from google.colab import files"
      ],
      "execution_count": 0,
      "outputs": []
    },
    {
      "metadata": {
        "id": "ylch5Vz-Z4lP",
        "colab_type": "code",
        "colab": {}
      },
      "cell_type": "code",
      "source": [
        "import json\n",
        "from pandas.io.json import json_normalize\n",
        "import random"
      ],
      "execution_count": 0,
      "outputs": []
    },
    {
      "metadata": {
        "id": "O8Le6ZBdMIpV",
        "colab_type": "code",
        "colab": {}
      },
      "cell_type": "code",
      "source": [
        "from itertools import product\n",
        "from sklearn.preprocessing import LabelEncoder"
      ],
      "execution_count": 0,
      "outputs": []
    },
    {
      "metadata": {
        "id": "IlgpRAHpMOXN",
        "colab_type": "code",
        "outputId": "cc7f343f-cff2-4362-cc8d-9e5320a2786d",
        "colab": {
          "base_uri": "https://localhost:8080/",
          "height": 243
        }
      },
      "cell_type": "code",
      "source": [
        "!pip install fbprophet\n",
        "from fbprophet import Prophet"
      ],
      "execution_count": 6,
      "outputs": [
        {
          "output_type": "stream",
          "text": [
            "Requirement already satisfied: fbprophet in /usr/local/lib/python3.6/dist-packages (0.3.post2)\n",
            "Requirement already satisfied: Cython>=0.22 in /usr/local/lib/python3.6/dist-packages (from fbprophet) (0.29)\n",
            "Requirement already satisfied: pystan>=2.14 in /usr/local/lib/python3.6/dist-packages (from fbprophet) (2.18.0.0)\n",
            "Requirement already satisfied: numpy>=1.10.0 in /usr/local/lib/python3.6/dist-packages (from fbprophet) (1.14.6)\n",
            "Requirement already satisfied: pandas>=0.20.1 in /usr/local/lib/python3.6/dist-packages (from fbprophet) (0.22.0)\n",
            "Requirement already satisfied: matplotlib>=2.0.0 in /usr/local/lib/python3.6/dist-packages (from fbprophet) (2.1.2)\n",
            "Requirement already satisfied: pytz>=2011k in /usr/local/lib/python3.6/dist-packages (from pandas>=0.20.1->fbprophet) (2018.7)\n",
            "Requirement already satisfied: python-dateutil>=2 in /usr/local/lib/python3.6/dist-packages (from pandas>=0.20.1->fbprophet) (2.5.3)\n",
            "Requirement already satisfied: cycler>=0.10 in /usr/local/lib/python3.6/dist-packages (from matplotlib>=2.0.0->fbprophet) (0.10.0)\n",
            "Requirement already satisfied: six>=1.10 in /usr/local/lib/python3.6/dist-packages (from matplotlib>=2.0.0->fbprophet) (1.11.0)\n",
            "Requirement already satisfied: pyparsing!=2.0.4,!=2.1.2,!=2.1.6,>=2.0.1 in /usr/local/lib/python3.6/dist-packages (from matplotlib>=2.0.0->fbprophet) (2.3.0)\n"
          ],
          "name": "stdout"
        }
      ]
    },
    {
      "metadata": {
        "id": "lp1lqwQTMO9l",
        "colab_type": "code",
        "colab": {}
      },
      "cell_type": "code",
      "source": [
        "from xgboost import XGBRegressor\n",
        "from xgboost import plot_importance"
      ],
      "execution_count": 0,
      "outputs": []
    },
    {
      "metadata": {
        "id": "WigyzmGo33Ng",
        "colab_type": "code",
        "colab": {}
      },
      "cell_type": "code",
      "source": [
        "from sklearn.ensemble import RandomForestRegressor\n",
        "from sklearn.model_selection import KFold, cross_val_score, train_test_split\n",
        "from sklearn.metrics import r2_score, make_scorer"
      ],
      "execution_count": 0,
      "outputs": []
    },
    {
      "metadata": {
        "id": "69ZUkDJNbCcQ",
        "colab_type": "code",
        "colab": {}
      },
      "cell_type": "code",
      "source": [
        "!pip install -U -q PyDrive\n",
        " \n",
        "from pydrive.auth import GoogleAuth\n",
        "from pydrive.drive import GoogleDrive\n",
        "from google.colab import auth\n",
        "from oauth2client.client import GoogleCredentials\n",
        " \n",
        "# 1. Authenticate and create the PyDrive client.\n",
        "auth.authenticate_user()\n",
        "gauth = GoogleAuth()\n",
        "gauth.credentials = GoogleCredentials.get_application_default()\n",
        "drive = GoogleDrive(gauth)"
      ],
      "execution_count": 0,
      "outputs": []
    },
    {
      "metadata": {
        "id": "cE7ztP1b6JuK",
        "colab_type": "code",
        "outputId": "657472b5-1a74-4e96-85d3-6bd5a5f2bd88",
        "colab": {
          "base_uri": "https://localhost:8080/",
          "height": 747
        }
      },
      "cell_type": "code",
      "source": [
        "file_list = drive.ListFile({'q': \"'19ry360g_dRMf_i9Gi4A2WrOzE682GA7O' in parents and trashed=false\"}).GetList()\n",
        "for file1 in file_list:\n",
        "  print('title: %s, id: %s' % (file1['title'], file1['id']))"
      ],
      "execution_count": 10,
      "outputs": [
        {
          "output_type": "stream",
          "text": [
            "WARNING:googleapiclient.discovery_cache:file_cache is unavailable when using oauth2client >= 4.0.0\n",
            "Traceback (most recent call last):\n",
            "  File \"/usr/local/lib/python3.6/dist-packages/googleapiclient/discovery_cache/__init__.py\", line 36, in autodetect\n",
            "    from google.appengine.api import memcache\n",
            "ModuleNotFoundError: No module named 'google.appengine'\n",
            "\n",
            "During handling of the above exception, another exception occurred:\n",
            "\n",
            "Traceback (most recent call last):\n",
            "  File \"/usr/local/lib/python3.6/dist-packages/googleapiclient/discovery_cache/file_cache.py\", line 33, in <module>\n",
            "    from oauth2client.contrib.locked_file import LockedFile\n",
            "ModuleNotFoundError: No module named 'oauth2client.contrib.locked_file'\n",
            "\n",
            "During handling of the above exception, another exception occurred:\n",
            "\n",
            "Traceback (most recent call last):\n",
            "  File \"/usr/local/lib/python3.6/dist-packages/googleapiclient/discovery_cache/file_cache.py\", line 37, in <module>\n",
            "    from oauth2client.locked_file import LockedFile\n",
            "ModuleNotFoundError: No module named 'oauth2client.locked_file'\n",
            "\n",
            "During handling of the above exception, another exception occurred:\n",
            "\n",
            "Traceback (most recent call last):\n",
            "  File \"/usr/local/lib/python3.6/dist-packages/googleapiclient/discovery_cache/__init__.py\", line 41, in autodetect\n",
            "    from . import file_cache\n",
            "  File \"/usr/local/lib/python3.6/dist-packages/googleapiclient/discovery_cache/file_cache.py\", line 41, in <module>\n",
            "    'file_cache is unavailable when using oauth2client >= 4.0.0')\n",
            "ImportError: file_cache is unavailable when using oauth2client >= 4.0.0\n",
            "INFO:googleapiclient.discovery:URL being requested: GET https://www.googleapis.com/discovery/v1/apis/drive/v2/rest\n",
            "INFO:oauth2client.transport:Attempting refresh to obtain initial access_token\n",
            "INFO:oauth2client.client:Refreshing access_token\n",
            "INFO:googleapiclient.discovery:URL being requested: GET https://www.googleapis.com/drive/v2/files?q=%2719ry360g_dRMf_i9Gi4A2WrOzE682GA7O%27+in+parents+and+trashed%3Dfalse&maxResults=1000&alt=json\n"
          ],
          "name": "stderr"
        },
        {
          "output_type": "stream",
          "text": [
            "title: gstore_competition.ipynb, id: 1gRRqwzC-VDFe_fOQW9Kc-5YX3Gmofxnt\n",
            "title: train.csv, id: 1-9OX7E7uSovNTI4-h43oMQpZavJai6sb\n",
            "title: test.csv, id: 1SohvLEveFD4yhhR_alpJtfgtY5QIYMV4\n",
            "title: sample_submission.csv, id: 1WLB9e5uswsrR8NWq4yLwFKlXE9uYUZKB\n",
            "title: all.zip (Unzipped Files), id: 13XaW-vTIJKNDKMrbhamaduANnnPFojkQ\n",
            "title: all.zip, id: 1Mi8GWSji2h1FGzWkQHYXmRuQNqHcIUlj\n"
          ],
          "name": "stdout"
        }
      ]
    },
    {
      "metadata": {
        "id": "2__XGc2J756U",
        "colab_type": "code",
        "outputId": "1bfe6149-4e8f-41da-e2ea-b6411bd3eece",
        "colab": {
          "base_uri": "https://localhost:8080/",
          "height": 75
        }
      },
      "cell_type": "code",
      "source": [
        "train = drive.CreateFile({'id': '1-9OX7E7uSovNTI4-h43oMQpZavJai6sb'})\n",
        "train.GetContentFile('train.csv')\n",
        "\n",
        "test_data = drive.CreateFile({'id': '1SohvLEveFD4yhhR_alpJtfgtY5QIYMV4'})\n",
        "test_data.GetContentFile('test.csv')\n",
        "\n",
        "submission = drive.CreateFile({'id': '1WLB9e5uswsrR8NWq4yLwFKlXE9uYUZKB'})\n",
        "test_data.GetContentFile('sample_submission.csv')"
      ],
      "execution_count": 11,
      "outputs": [
        {
          "output_type": "stream",
          "text": [
            "INFO:googleapiclient.discovery:URL being requested: GET https://www.googleapis.com/drive/v2/files/1-9OX7E7uSovNTI4-h43oMQpZavJai6sb?alt=json\n",
            "INFO:googleapiclient.discovery:URL being requested: GET https://www.googleapis.com/drive/v2/files/1SohvLEveFD4yhhR_alpJtfgtY5QIYMV4?alt=json\n"
          ],
          "name": "stderr"
        }
      ]
    },
    {
      "metadata": {
        "id": "8MKNY-OncArv",
        "colab_type": "text"
      },
      "cell_type": "markdown",
      "source": [
        "### Here we read our DataFrame and transform its json columns into normal ones"
      ]
    },
    {
      "metadata": {
        "id": "ECS9WtTQcAUm",
        "colab_type": "code",
        "colab": {}
      },
      "cell_type": "code",
      "source": [
        "def json_read(df):\n",
        "    \n",
        "    columns = ['device', 'geoNetwork', 'totals', 'trafficSource']\n",
        "    p = 0.07\n",
        "    \n",
        "    data_frame = df\n",
        "    \n",
        "    #Importing the dataset\n",
        "    df = pd.read_csv(data_frame, \n",
        "                     converters={column: json.loads for column in columns}, # loading the json columns properly\n",
        "                     dtype={'fullVisitorId': 'str'},\n",
        "                    skiprows=lambda i: i>0 and random.random() > p\n",
        "                    ) # transforming this column to string\n",
        "    \n",
        "    for column in columns: #loop to finally transform the columns in data frame\n",
        "        #It will normalize and set the json to a table\n",
        "        column_as_df = json_normalize(df[column]) \n",
        "        # here will be set the name using the category and subcategory of json columns\n",
        "        column_as_df.columns = [f\"{column}.{subcolumn}\" for subcolumn in column_as_df.columns] \n",
        "        # after extracting the values, let drop the original columns\n",
        "        df = df.drop(column, axis=1).merge(column_as_df, right_index=True, left_index=True)\n",
        "        \n",
        "    # Printing the shape of dataframes that was imported     \n",
        "    print(f\"Loaded {os.path.basename(data_frame)}. Shape: {df.shape}\")\n",
        "    return df # returning the df after importing and transforming"
      ],
      "execution_count": 0,
      "outputs": []
    },
    {
      "metadata": {
        "id": "PLQVutOlGxT6",
        "colab_type": "code",
        "colab": {
          "base_uri": "https://localhost:8080/",
          "height": 73
        },
        "outputId": "2b19587d-bba2-4c6a-9cfa-ec80cb2c8d07"
      },
      "cell_type": "code",
      "source": [
        "columns = ['device', 'geoNetwork', 'totals', 'trafficSource']\n",
        "\n",
        "train = json_read('train.csv')\n",
        "test_data = json_read('test.csv')\n",
        "submission = json_read('sample_submission.csv')"
      ],
      "execution_count": 16,
      "outputs": [
        {
          "output_type": "stream",
          "text": [
            "Loaded train.csv. Shape: (63195, 24)\n",
            "Loaded test.csv. Shape: (56363, 24)\n",
            "Loaded sample_submission.csv. Shape: (56235, 24)\n"
          ],
          "name": "stdout"
        }
      ]
    },
    {
      "metadata": {
        "id": "aU_WGrAl7UN5",
        "colab_type": "code",
        "colab": {
          "base_uri": "https://localhost:8080/",
          "height": 73
        },
        "outputId": "606c82b5-8ddd-4608-ff2d-bc5ad07da1f0"
      },
      "cell_type": "code",
      "source": [
        "train.fullVisitorId[:2]"
      ],
      "execution_count": 17,
      "outputs": [
        {
          "output_type": "execute_result",
          "data": {
            "text/plain": [
              "0    3696906537737368442\n",
              "1    3982295596181714479\n",
              "Name: fullVisitorId, dtype: object"
            ]
          },
          "metadata": {
            "tags": []
          },
          "execution_count": 17
        }
      ]
    },
    {
      "metadata": {
        "id": "zgJCWu8OJRif",
        "colab_type": "code",
        "outputId": "2e12d53c-6a05-4c53-9778-3c9b925565e7",
        "colab": {
          "base_uri": "https://localhost:8080/",
          "height": 279
        }
      },
      "cell_type": "code",
      "source": [
        "train.columns\n",
        "test_data.columns\n",
        "submission.columns"
      ],
      "execution_count": 18,
      "outputs": [
        {
          "output_type": "execute_result",
          "data": {
            "text/plain": [
              "Index(['channelGrouping', 'date', 'fullVisitorId', 'sessionId',\n",
              "       'socialEngagementType', 'visitId', 'visitNumber', 'visitStartTime',\n",
              "       'device.device', 'geoNetwork.geoNetwork', 'totals.totals',\n",
              "       'trafficSource.adContent',\n",
              "       'trafficSource.adwordsClickInfo.adNetworkType',\n",
              "       'trafficSource.adwordsClickInfo.criteriaParameters',\n",
              "       'trafficSource.adwordsClickInfo.gclId',\n",
              "       'trafficSource.adwordsClickInfo.isVideoAd',\n",
              "       'trafficSource.adwordsClickInfo.page',\n",
              "       'trafficSource.adwordsClickInfo.slot', 'trafficSource.campaign',\n",
              "       'trafficSource.isTrueDirect', 'trafficSource.keyword',\n",
              "       'trafficSource.medium', 'trafficSource.referralPath',\n",
              "       'trafficSource.source'],\n",
              "      dtype='object')"
            ]
          },
          "metadata": {
            "tags": []
          },
          "execution_count": 18
        }
      ]
    },
    {
      "metadata": {
        "id": "vJj3LuTehRTO",
        "colab_type": "code",
        "colab": {
          "base_uri": "https://localhost:8080/",
          "height": 279
        },
        "outputId": "47af5c8b-cdf4-4831-bf66-b79da3058777"
      },
      "cell_type": "code",
      "source": [
        "test_data.columns"
      ],
      "execution_count": 19,
      "outputs": [
        {
          "output_type": "execute_result",
          "data": {
            "text/plain": [
              "Index(['channelGrouping', 'date', 'fullVisitorId', 'sessionId',\n",
              "       'socialEngagementType', 'visitId', 'visitNumber', 'visitStartTime',\n",
              "       'device.device', 'geoNetwork.geoNetwork', 'totals.totals',\n",
              "       'trafficSource.adContent',\n",
              "       'trafficSource.adwordsClickInfo.adNetworkType',\n",
              "       'trafficSource.adwordsClickInfo.criteriaParameters',\n",
              "       'trafficSource.adwordsClickInfo.gclId',\n",
              "       'trafficSource.adwordsClickInfo.isVideoAd',\n",
              "       'trafficSource.adwordsClickInfo.page',\n",
              "       'trafficSource.adwordsClickInfo.slot', 'trafficSource.campaign',\n",
              "       'trafficSource.isTrueDirect', 'trafficSource.keyword',\n",
              "       'trafficSource.medium', 'trafficSource.referralPath',\n",
              "       'trafficSource.source'],\n",
              "      dtype='object')"
            ]
          },
          "metadata": {
            "tags": []
          },
          "execution_count": 19
        }
      ]
    },
    {
      "metadata": {
        "id": "ij8CGeuahTY5",
        "colab_type": "code",
        "colab": {
          "base_uri": "https://localhost:8080/",
          "height": 279
        },
        "outputId": "c70c3f6d-2a4f-4d22-dfa5-d6641c6b2d4d"
      },
      "cell_type": "code",
      "source": [
        "submission.columns"
      ],
      "execution_count": 21,
      "outputs": [
        {
          "output_type": "execute_result",
          "data": {
            "text/plain": [
              "Index(['channelGrouping', 'date', 'fullVisitorId', 'sessionId',\n",
              "       'socialEngagementType', 'visitId', 'visitNumber', 'visitStartTime',\n",
              "       'device.device', 'geoNetwork.geoNetwork', 'totals.totals',\n",
              "       'trafficSource.adContent',\n",
              "       'trafficSource.adwordsClickInfo.adNetworkType',\n",
              "       'trafficSource.adwordsClickInfo.criteriaParameters',\n",
              "       'trafficSource.adwordsClickInfo.gclId',\n",
              "       'trafficSource.adwordsClickInfo.isVideoAd',\n",
              "       'trafficSource.adwordsClickInfo.page',\n",
              "       'trafficSource.adwordsClickInfo.slot', 'trafficSource.campaign',\n",
              "       'trafficSource.isTrueDirect', 'trafficSource.keyword',\n",
              "       'trafficSource.medium', 'trafficSource.referralPath',\n",
              "       'trafficSource.source'],\n",
              "      dtype='object')"
            ]
          },
          "metadata": {
            "tags": []
          },
          "execution_count": 21
        }
      ]
    },
    {
      "metadata": {
        "id": "0ybieu4Dmbod",
        "colab_type": "code",
        "colab": {
          "base_uri": "https://localhost:8080/",
          "height": 263
        },
        "outputId": "1595adfd-004f-4314-8b59-fbff4a1d9fcc"
      },
      "cell_type": "code",
      "source": [
        "train.head(2)"
      ],
      "execution_count": 20,
      "outputs": [
        {
          "output_type": "execute_result",
          "data": {
            "text/html": [
              "<div>\n",
              "<style scoped>\n",
              "    .dataframe tbody tr th:only-of-type {\n",
              "        vertical-align: middle;\n",
              "    }\n",
              "\n",
              "    .dataframe tbody tr th {\n",
              "        vertical-align: top;\n",
              "    }\n",
              "\n",
              "    .dataframe thead th {\n",
              "        text-align: right;\n",
              "    }\n",
              "</style>\n",
              "<table border=\"1\" class=\"dataframe\">\n",
              "  <thead>\n",
              "    <tr style=\"text-align: right;\">\n",
              "      <th></th>\n",
              "      <th>channelGrouping</th>\n",
              "      <th>date</th>\n",
              "      <th>fullVisitorId</th>\n",
              "      <th>sessionId</th>\n",
              "      <th>socialEngagementType</th>\n",
              "      <th>visitId</th>\n",
              "      <th>visitNumber</th>\n",
              "      <th>visitStartTime</th>\n",
              "      <th>device.device</th>\n",
              "      <th>geoNetwork.geoNetwork</th>\n",
              "      <th>...</th>\n",
              "      <th>trafficSource.adwordsClickInfo.gclId</th>\n",
              "      <th>trafficSource.adwordsClickInfo.isVideoAd</th>\n",
              "      <th>trafficSource.adwordsClickInfo.page</th>\n",
              "      <th>trafficSource.adwordsClickInfo.slot</th>\n",
              "      <th>trafficSource.campaign</th>\n",
              "      <th>trafficSource.isTrueDirect</th>\n",
              "      <th>trafficSource.keyword</th>\n",
              "      <th>trafficSource.medium</th>\n",
              "      <th>trafficSource.referralPath</th>\n",
              "      <th>trafficSource.source</th>\n",
              "    </tr>\n",
              "  </thead>\n",
              "  <tbody>\n",
              "    <tr>\n",
              "      <th>0</th>\n",
              "      <td>Organic Search</td>\n",
              "      <td>20160902</td>\n",
              "      <td>3696906537737368442</td>\n",
              "      <td>3696906537737368442_1472856874</td>\n",
              "      <td>Not Socially Engaged</td>\n",
              "      <td>1472856874</td>\n",
              "      <td>1</td>\n",
              "      <td>1472856874</td>\n",
              "      <td>{'browser': 'Chrome', 'browserVersion': 'not a...</td>\n",
              "      <td>{'continent': 'Americas', 'subContinent': 'Sou...</td>\n",
              "      <td>...</td>\n",
              "      <td>NaN</td>\n",
              "      <td>NaN</td>\n",
              "      <td>NaN</td>\n",
              "      <td>NaN</td>\n",
              "      <td>(not set)</td>\n",
              "      <td>NaN</td>\n",
              "      <td>(not provided)</td>\n",
              "      <td>organic</td>\n",
              "      <td>NaN</td>\n",
              "      <td>google</td>\n",
              "    </tr>\n",
              "    <tr>\n",
              "      <th>1</th>\n",
              "      <td>Organic Search</td>\n",
              "      <td>20160902</td>\n",
              "      <td>3982295596181714479</td>\n",
              "      <td>3982295596181714479_1472825889</td>\n",
              "      <td>Not Socially Engaged</td>\n",
              "      <td>1472825889</td>\n",
              "      <td>1</td>\n",
              "      <td>1472825889</td>\n",
              "      <td>{'browser': 'Chrome', 'browserVersion': 'not a...</td>\n",
              "      <td>{'continent': 'Asia', 'subContinent': 'Eastern...</td>\n",
              "      <td>...</td>\n",
              "      <td>NaN</td>\n",
              "      <td>NaN</td>\n",
              "      <td>NaN</td>\n",
              "      <td>NaN</td>\n",
              "      <td>(not set)</td>\n",
              "      <td>NaN</td>\n",
              "      <td>(not provided)</td>\n",
              "      <td>organic</td>\n",
              "      <td>NaN</td>\n",
              "      <td>google</td>\n",
              "    </tr>\n",
              "  </tbody>\n",
              "</table>\n",
              "<p>2 rows × 24 columns</p>\n",
              "</div>"
            ],
            "text/plain": [
              "  channelGrouping      date        fullVisitorId  \\\n",
              "0  Organic Search  20160902  3696906537737368442   \n",
              "1  Organic Search  20160902  3982295596181714479   \n",
              "\n",
              "                        sessionId  socialEngagementType     visitId  \\\n",
              "0  3696906537737368442_1472856874  Not Socially Engaged  1472856874   \n",
              "1  3982295596181714479_1472825889  Not Socially Engaged  1472825889   \n",
              "\n",
              "   visitNumber  visitStartTime  \\\n",
              "0            1      1472856874   \n",
              "1            1      1472825889   \n",
              "\n",
              "                                       device.device  \\\n",
              "0  {'browser': 'Chrome', 'browserVersion': 'not a...   \n",
              "1  {'browser': 'Chrome', 'browserVersion': 'not a...   \n",
              "\n",
              "                               geoNetwork.geoNetwork         ...           \\\n",
              "0  {'continent': 'Americas', 'subContinent': 'Sou...         ...            \n",
              "1  {'continent': 'Asia', 'subContinent': 'Eastern...         ...            \n",
              "\n",
              "  trafficSource.adwordsClickInfo.gclId  \\\n",
              "0                                  NaN   \n",
              "1                                  NaN   \n",
              "\n",
              "  trafficSource.adwordsClickInfo.isVideoAd  \\\n",
              "0                                      NaN   \n",
              "1                                      NaN   \n",
              "\n",
              "  trafficSource.adwordsClickInfo.page trafficSource.adwordsClickInfo.slot  \\\n",
              "0                                 NaN                                 NaN   \n",
              "1                                 NaN                                 NaN   \n",
              "\n",
              "  trafficSource.campaign trafficSource.isTrueDirect trafficSource.keyword  \\\n",
              "0              (not set)                        NaN        (not provided)   \n",
              "1              (not set)                        NaN        (not provided)   \n",
              "\n",
              "  trafficSource.medium trafficSource.referralPath trafficSource.source  \n",
              "0              organic                        NaN               google  \n",
              "1              organic                        NaN               google  \n",
              "\n",
              "[2 rows x 24 columns]"
            ]
          },
          "metadata": {
            "tags": []
          },
          "execution_count": 20
        }
      ]
    },
    {
      "metadata": {
        "id": "FneuzDt-myBE",
        "colab_type": "code",
        "colab": {
          "base_uri": "https://localhost:8080/",
          "height": 187
        },
        "outputId": "f91b16b2-b632-4d34-b71e-9df6926ff852"
      },
      "cell_type": "code",
      "source": [
        "train.trafficSource.unique()"
      ],
      "execution_count": 41,
      "outputs": [
        {
          "output_type": "execute_result",
          "data": {
            "text/plain": [
              "array(['{\"campaign\": \"(not set)\", \"source\": \"google\", \"medium\": \"organic\", \"keyword\": \"(not provided)\", \"adwordsClickInfo\": {\"criteriaParameters\": \"not available in demo dataset\"}}',\n",
              "       '{\"campaign\": \"(not set)\", \"source\": \"google\", \"medium\": \"organic\", \"keyword\": \"google + online\", \"adwordsClickInfo\": {\"criteriaParameters\": \"not available in demo dataset\"}}',\n",
              "       '{\"campaign\": \"(not set)\", \"source\": \"google\", \"medium\": \"organic\", \"keyword\": \"(not provided)\", \"adwordsClickInfo\": {\"criteriaParameters\": \"not available in demo dataset\"}, \"isTrueDirect\": true}',\n",
              "       ...,\n",
              "       '{\"campaign\": \"AW - Dynamic Search Ads Whole Site\", \"source\": \"google\", \"medium\": \"cpc\", \"keyword\": \"6qEhsCssdK0z36ri\", \"adwordsClickInfo\": {\"page\": \"1\", \"slot\": \"Top\", \"criteriaParameters\": \"not available in demo dataset\", \"gclId\": \"CPi135HaqdECFYtKDQodGWYG0g\", \"adNetworkType\": \"Google Search\", \"isVideoAd\": false}, \"isTrueDirect\": true}',\n",
              "       '{\"campaign\": \"AW - Dynamic Search Ads Whole Site\", \"source\": \"google\", \"medium\": \"cpc\", \"keyword\": \"6qEhsCssdK0z36ri\", \"adwordsClickInfo\": {\"page\": \"1\", \"slot\": \"Top\", \"criteriaParameters\": \"not available in demo dataset\", \"gclId\": \"COiIvfHMqdECFcKEswodNJcMrQ\", \"adNetworkType\": \"Google Search\", \"isVideoAd\": false}}',\n",
              "       '{\"campaign\": \"AW - Dynamic Search Ads Whole Site\", \"source\": \"google\", \"medium\": \"cpc\", \"keyword\": \"6qEhsCssdK0z36ri\", \"adwordsClickInfo\": {\"page\": \"1\", \"slot\": \"Top\", \"criteriaParameters\": \"not available in demo dataset\", \"gclId\": \"CjwKEAiA17LDBRDElqOGq8vR7m8SJAA1AC0_0wzbDX0fd-gzNVm4iuZRBFQ6id5RBK7XQZGOS1kIHRoCXJPw_wcB\", \"adNetworkType\": \"Google Search\", \"isVideoAd\": false}}'],\n",
              "      dtype=object)"
            ]
          },
          "metadata": {
            "tags": []
          },
          "execution_count": 41
        }
      ]
    },
    {
      "metadata": {
        "id": "DZvaTQj_mdog",
        "colab_type": "code",
        "colab": {
          "base_uri": "https://localhost:8080/",
          "height": 181
        },
        "outputId": "cfdb8dfc-9728-4729-90e3-f4c0929ebfb9"
      },
      "cell_type": "code",
      "source": [
        "test_data.head(1)"
      ],
      "execution_count": 24,
      "outputs": [
        {
          "output_type": "execute_result",
          "data": {
            "text/html": [
              "<div>\n",
              "<style scoped>\n",
              "    .dataframe tbody tr th:only-of-type {\n",
              "        vertical-align: middle;\n",
              "    }\n",
              "\n",
              "    .dataframe tbody tr th {\n",
              "        vertical-align: top;\n",
              "    }\n",
              "\n",
              "    .dataframe thead th {\n",
              "        text-align: right;\n",
              "    }\n",
              "</style>\n",
              "<table border=\"1\" class=\"dataframe\">\n",
              "  <thead>\n",
              "    <tr style=\"text-align: right;\">\n",
              "      <th></th>\n",
              "      <th>channelGrouping</th>\n",
              "      <th>date</th>\n",
              "      <th>fullVisitorId</th>\n",
              "      <th>sessionId</th>\n",
              "      <th>socialEngagementType</th>\n",
              "      <th>visitId</th>\n",
              "      <th>visitNumber</th>\n",
              "      <th>visitStartTime</th>\n",
              "      <th>device.device</th>\n",
              "      <th>geoNetwork.geoNetwork</th>\n",
              "      <th>...</th>\n",
              "      <th>trafficSource.adwordsClickInfo.gclId</th>\n",
              "      <th>trafficSource.adwordsClickInfo.isVideoAd</th>\n",
              "      <th>trafficSource.adwordsClickInfo.page</th>\n",
              "      <th>trafficSource.adwordsClickInfo.slot</th>\n",
              "      <th>trafficSource.campaign</th>\n",
              "      <th>trafficSource.isTrueDirect</th>\n",
              "      <th>trafficSource.keyword</th>\n",
              "      <th>trafficSource.medium</th>\n",
              "      <th>trafficSource.referralPath</th>\n",
              "      <th>trafficSource.source</th>\n",
              "    </tr>\n",
              "  </thead>\n",
              "  <tbody>\n",
              "    <tr>\n",
              "      <th>0</th>\n",
              "      <td>Organic Search</td>\n",
              "      <td>20171016</td>\n",
              "      <td>2539146239106597280</td>\n",
              "      <td>2539146239106597280_1508207776</td>\n",
              "      <td>Not Socially Engaged</td>\n",
              "      <td>1508207776</td>\n",
              "      <td>1</td>\n",
              "      <td>1508207776</td>\n",
              "      <td>{'browser': 'Chrome', 'browserVersion': 'not a...</td>\n",
              "      <td>{'continent': 'Americas', 'subContinent': 'Nor...</td>\n",
              "      <td>...</td>\n",
              "      <td>NaN</td>\n",
              "      <td>NaN</td>\n",
              "      <td>NaN</td>\n",
              "      <td>NaN</td>\n",
              "      <td>(not set)</td>\n",
              "      <td>NaN</td>\n",
              "      <td>(not provided)</td>\n",
              "      <td>organic</td>\n",
              "      <td>NaN</td>\n",
              "      <td>google</td>\n",
              "    </tr>\n",
              "  </tbody>\n",
              "</table>\n",
              "<p>1 rows × 24 columns</p>\n",
              "</div>"
            ],
            "text/plain": [
              "  channelGrouping      date        fullVisitorId  \\\n",
              "0  Organic Search  20171016  2539146239106597280   \n",
              "\n",
              "                        sessionId  socialEngagementType     visitId  \\\n",
              "0  2539146239106597280_1508207776  Not Socially Engaged  1508207776   \n",
              "\n",
              "   visitNumber  visitStartTime  \\\n",
              "0            1      1508207776   \n",
              "\n",
              "                                       device.device  \\\n",
              "0  {'browser': 'Chrome', 'browserVersion': 'not a...   \n",
              "\n",
              "                               geoNetwork.geoNetwork         ...           \\\n",
              "0  {'continent': 'Americas', 'subContinent': 'Nor...         ...            \n",
              "\n",
              "  trafficSource.adwordsClickInfo.gclId  \\\n",
              "0                                  NaN   \n",
              "\n",
              "  trafficSource.adwordsClickInfo.isVideoAd  \\\n",
              "0                                      NaN   \n",
              "\n",
              "  trafficSource.adwordsClickInfo.page trafficSource.adwordsClickInfo.slot  \\\n",
              "0                                 NaN                                 NaN   \n",
              "\n",
              "  trafficSource.campaign trafficSource.isTrueDirect trafficSource.keyword  \\\n",
              "0              (not set)                        NaN        (not provided)   \n",
              "\n",
              "  trafficSource.medium trafficSource.referralPath trafficSource.source  \n",
              "0              organic                        NaN               google  \n",
              "\n",
              "[1 rows x 24 columns]"
            ]
          },
          "metadata": {
            "tags": []
          },
          "execution_count": 24
        }
      ]
    },
    {
      "metadata": {
        "id": "K-8tpWIrJVpm",
        "colab_type": "code",
        "outputId": "838a3667-f9bf-4ce5-9939-a54889e71fb8",
        "colab": {
          "base_uri": "https://localhost:8080/",
          "height": 263
        }
      },
      "cell_type": "code",
      "source": [
        "submission.head(2)"
      ],
      "execution_count": 25,
      "outputs": [
        {
          "output_type": "execute_result",
          "data": {
            "text/html": [
              "<div>\n",
              "<style scoped>\n",
              "    .dataframe tbody tr th:only-of-type {\n",
              "        vertical-align: middle;\n",
              "    }\n",
              "\n",
              "    .dataframe tbody tr th {\n",
              "        vertical-align: top;\n",
              "    }\n",
              "\n",
              "    .dataframe thead th {\n",
              "        text-align: right;\n",
              "    }\n",
              "</style>\n",
              "<table border=\"1\" class=\"dataframe\">\n",
              "  <thead>\n",
              "    <tr style=\"text-align: right;\">\n",
              "      <th></th>\n",
              "      <th>channelGrouping</th>\n",
              "      <th>date</th>\n",
              "      <th>fullVisitorId</th>\n",
              "      <th>sessionId</th>\n",
              "      <th>socialEngagementType</th>\n",
              "      <th>visitId</th>\n",
              "      <th>visitNumber</th>\n",
              "      <th>visitStartTime</th>\n",
              "      <th>device.device</th>\n",
              "      <th>geoNetwork.geoNetwork</th>\n",
              "      <th>...</th>\n",
              "      <th>trafficSource.adwordsClickInfo.gclId</th>\n",
              "      <th>trafficSource.adwordsClickInfo.isVideoAd</th>\n",
              "      <th>trafficSource.adwordsClickInfo.page</th>\n",
              "      <th>trafficSource.adwordsClickInfo.slot</th>\n",
              "      <th>trafficSource.campaign</th>\n",
              "      <th>trafficSource.isTrueDirect</th>\n",
              "      <th>trafficSource.keyword</th>\n",
              "      <th>trafficSource.medium</th>\n",
              "      <th>trafficSource.referralPath</th>\n",
              "      <th>trafficSource.source</th>\n",
              "    </tr>\n",
              "  </thead>\n",
              "  <tbody>\n",
              "    <tr>\n",
              "      <th>0</th>\n",
              "      <td>Organic Search</td>\n",
              "      <td>20171016</td>\n",
              "      <td>6097905367189223328</td>\n",
              "      <td>6097905367189223328_1508218860</td>\n",
              "      <td>Not Socially Engaged</td>\n",
              "      <td>1508218860</td>\n",
              "      <td>1</td>\n",
              "      <td>1508218860</td>\n",
              "      <td>{'browser': 'Chrome', 'browserVersion': 'not a...</td>\n",
              "      <td>{'continent': 'Americas', 'subContinent': 'Nor...</td>\n",
              "      <td>...</td>\n",
              "      <td>NaN</td>\n",
              "      <td>NaN</td>\n",
              "      <td>NaN</td>\n",
              "      <td>NaN</td>\n",
              "      <td>(not set)</td>\n",
              "      <td>NaN</td>\n",
              "      <td>(not provided)</td>\n",
              "      <td>organic</td>\n",
              "      <td>NaN</td>\n",
              "      <td>google</td>\n",
              "    </tr>\n",
              "    <tr>\n",
              "      <th>1</th>\n",
              "      <td>Direct</td>\n",
              "      <td>20171016</td>\n",
              "      <td>6607438459060540448</td>\n",
              "      <td>6607438459060540448_1508179515</td>\n",
              "      <td>Not Socially Engaged</td>\n",
              "      <td>1508179515</td>\n",
              "      <td>1</td>\n",
              "      <td>1508179515</td>\n",
              "      <td>{'browser': 'Chrome', 'browserVersion': 'not a...</td>\n",
              "      <td>{'continent': 'Americas', 'subContinent': 'Nor...</td>\n",
              "      <td>...</td>\n",
              "      <td>NaN</td>\n",
              "      <td>NaN</td>\n",
              "      <td>NaN</td>\n",
              "      <td>NaN</td>\n",
              "      <td>(not set)</td>\n",
              "      <td>True</td>\n",
              "      <td>NaN</td>\n",
              "      <td>(none)</td>\n",
              "      <td>NaN</td>\n",
              "      <td>(direct)</td>\n",
              "    </tr>\n",
              "  </tbody>\n",
              "</table>\n",
              "<p>2 rows × 24 columns</p>\n",
              "</div>"
            ],
            "text/plain": [
              "  channelGrouping      date        fullVisitorId  \\\n",
              "0  Organic Search  20171016  6097905367189223328   \n",
              "1          Direct  20171016  6607438459060540448   \n",
              "\n",
              "                        sessionId  socialEngagementType     visitId  \\\n",
              "0  6097905367189223328_1508218860  Not Socially Engaged  1508218860   \n",
              "1  6607438459060540448_1508179515  Not Socially Engaged  1508179515   \n",
              "\n",
              "   visitNumber  visitStartTime  \\\n",
              "0            1      1508218860   \n",
              "1            1      1508179515   \n",
              "\n",
              "                                       device.device  \\\n",
              "0  {'browser': 'Chrome', 'browserVersion': 'not a...   \n",
              "1  {'browser': 'Chrome', 'browserVersion': 'not a...   \n",
              "\n",
              "                               geoNetwork.geoNetwork         ...           \\\n",
              "0  {'continent': 'Americas', 'subContinent': 'Nor...         ...            \n",
              "1  {'continent': 'Americas', 'subContinent': 'Nor...         ...            \n",
              "\n",
              "  trafficSource.adwordsClickInfo.gclId  \\\n",
              "0                                  NaN   \n",
              "1                                  NaN   \n",
              "\n",
              "  trafficSource.adwordsClickInfo.isVideoAd  \\\n",
              "0                                      NaN   \n",
              "1                                      NaN   \n",
              "\n",
              "  trafficSource.adwordsClickInfo.page trafficSource.adwordsClickInfo.slot  \\\n",
              "0                                 NaN                                 NaN   \n",
              "1                                 NaN                                 NaN   \n",
              "\n",
              "  trafficSource.campaign trafficSource.isTrueDirect trafficSource.keyword  \\\n",
              "0              (not set)                        NaN        (not provided)   \n",
              "1              (not set)                       True                   NaN   \n",
              "\n",
              "  trafficSource.medium trafficSource.referralPath trafficSource.source  \n",
              "0              organic                        NaN               google  \n",
              "1               (none)                        NaN             (direct)  \n",
              "\n",
              "[2 rows x 24 columns]"
            ]
          },
          "metadata": {
            "tags": []
          },
          "execution_count": 25
        }
      ]
    },
    {
      "metadata": {
        "id": "LQTgxbjf_H6P",
        "colab_type": "code",
        "colab": {
          "base_uri": "https://localhost:8080/",
          "height": 36
        },
        "outputId": "402fcdee-3474-4ed7-d7a5-11536bc99250"
      },
      "cell_type": "code",
      "source": [
        "test_data.shape"
      ],
      "execution_count": 27,
      "outputs": [
        {
          "output_type": "execute_result",
          "data": {
            "text/plain": [
              "(56363, 24)"
            ]
          },
          "metadata": {
            "tags": []
          },
          "execution_count": 27
        }
      ]
    },
    {
      "metadata": {
        "id": "i6ZB7uhQ_MIk",
        "colab_type": "code",
        "colab": {
          "base_uri": "https://localhost:8080/",
          "height": 36
        },
        "outputId": "0ab4be00-89fd-4ca7-9830-9b98d7f5b589"
      },
      "cell_type": "code",
      "source": [
        "train.shape"
      ],
      "execution_count": 23,
      "outputs": [
        {
          "output_type": "execute_result",
          "data": {
            "text/plain": [
              "(63195, 24)"
            ]
          },
          "metadata": {
            "tags": []
          },
          "execution_count": 23
        }
      ]
    },
    {
      "metadata": {
        "id": "dt-1mUEv_Qu3",
        "colab_type": "code",
        "colab": {
          "base_uri": "https://localhost:8080/",
          "height": 36
        },
        "outputId": "6d054b75-1d4e-4982-af49-b1e950ec6e63"
      },
      "cell_type": "code",
      "source": [
        "submission.shape"
      ],
      "execution_count": 28,
      "outputs": [
        {
          "output_type": "execute_result",
          "data": {
            "text/plain": [
              "(56235, 24)"
            ]
          },
          "metadata": {
            "tags": []
          },
          "execution_count": 28
        }
      ]
    },
    {
      "metadata": {
        "id": "E40QG8ZP_U5N",
        "colab_type": "code",
        "colab": {
          "base_uri": "https://localhost:8080/",
          "height": 857
        },
        "outputId": "456a8c6a-dc2f-4157-84ed-9b10175197ce"
      },
      "cell_type": "code",
      "source": [
        "train_sample = train[:5].copy().T\n",
        "train_sample"
      ],
      "execution_count": 30,
      "outputs": [
        {
          "output_type": "execute_result",
          "data": {
            "text/html": [
              "<div>\n",
              "<style scoped>\n",
              "    .dataframe tbody tr th:only-of-type {\n",
              "        vertical-align: middle;\n",
              "    }\n",
              "\n",
              "    .dataframe tbody tr th {\n",
              "        vertical-align: top;\n",
              "    }\n",
              "\n",
              "    .dataframe thead th {\n",
              "        text-align: right;\n",
              "    }\n",
              "</style>\n",
              "<table border=\"1\" class=\"dataframe\">\n",
              "  <thead>\n",
              "    <tr style=\"text-align: right;\">\n",
              "      <th></th>\n",
              "      <th>0</th>\n",
              "      <th>1</th>\n",
              "      <th>2</th>\n",
              "      <th>3</th>\n",
              "      <th>4</th>\n",
              "    </tr>\n",
              "  </thead>\n",
              "  <tbody>\n",
              "    <tr>\n",
              "      <th>channelGrouping</th>\n",
              "      <td>Organic Search</td>\n",
              "      <td>Organic Search</td>\n",
              "      <td>Organic Search</td>\n",
              "      <td>Organic Search</td>\n",
              "      <td>Organic Search</td>\n",
              "    </tr>\n",
              "    <tr>\n",
              "      <th>date</th>\n",
              "      <td>20160902</td>\n",
              "      <td>20160902</td>\n",
              "      <td>20160902</td>\n",
              "      <td>20160902</td>\n",
              "      <td>20160902</td>\n",
              "    </tr>\n",
              "    <tr>\n",
              "      <th>fullVisitorId</th>\n",
              "      <td>3696906537737368442</td>\n",
              "      <td>3982295596181714479</td>\n",
              "      <td>1397786681184924394</td>\n",
              "      <td>1381975521299261523</td>\n",
              "      <td>0715569826025005549</td>\n",
              "    </tr>\n",
              "    <tr>\n",
              "      <th>sessionId</th>\n",
              "      <td>3696906537737368442_1472856874</td>\n",
              "      <td>3982295596181714479_1472825889</td>\n",
              "      <td>1397786681184924394_1472822131</td>\n",
              "      <td>1381975521299261523_1472829727</td>\n",
              "      <td>0715569826025005549_1472864193</td>\n",
              "    </tr>\n",
              "    <tr>\n",
              "      <th>socialEngagementType</th>\n",
              "      <td>Not Socially Engaged</td>\n",
              "      <td>Not Socially Engaged</td>\n",
              "      <td>Not Socially Engaged</td>\n",
              "      <td>Not Socially Engaged</td>\n",
              "      <td>Not Socially Engaged</td>\n",
              "    </tr>\n",
              "    <tr>\n",
              "      <th>visitId</th>\n",
              "      <td>1472856874</td>\n",
              "      <td>1472825889</td>\n",
              "      <td>1472822131</td>\n",
              "      <td>1472829727</td>\n",
              "      <td>1472864193</td>\n",
              "    </tr>\n",
              "    <tr>\n",
              "      <th>visitNumber</th>\n",
              "      <td>1</td>\n",
              "      <td>1</td>\n",
              "      <td>1</td>\n",
              "      <td>1</td>\n",
              "      <td>1</td>\n",
              "    </tr>\n",
              "    <tr>\n",
              "      <th>visitStartTime</th>\n",
              "      <td>1472856874</td>\n",
              "      <td>1472825889</td>\n",
              "      <td>1472822131</td>\n",
              "      <td>1472829727</td>\n",
              "      <td>1472864193</td>\n",
              "    </tr>\n",
              "    <tr>\n",
              "      <th>device.device</th>\n",
              "      <td>{'browser': 'Chrome', 'browserVersion': 'not a...</td>\n",
              "      <td>{'browser': 'Chrome', 'browserVersion': 'not a...</td>\n",
              "      <td>{'browser': 'Chrome', 'browserVersion': 'not a...</td>\n",
              "      <td>{'browser': 'Chrome', 'browserVersion': 'not a...</td>\n",
              "      <td>{'browser': 'Chrome', 'browserVersion': 'not a...</td>\n",
              "    </tr>\n",
              "    <tr>\n",
              "      <th>geoNetwork.geoNetwork</th>\n",
              "      <td>{'continent': 'Americas', 'subContinent': 'Sou...</td>\n",
              "      <td>{'continent': 'Asia', 'subContinent': 'Eastern...</td>\n",
              "      <td>{'continent': 'Europe', 'subContinent': 'North...</td>\n",
              "      <td>{'continent': 'Asia', 'subContinent': 'Eastern...</td>\n",
              "      <td>{'continent': 'Americas', 'subContinent': 'Sou...</td>\n",
              "    </tr>\n",
              "    <tr>\n",
              "      <th>totals.totals</th>\n",
              "      <td>{'visits': '1', 'hits': '1', 'pageviews': '1',...</td>\n",
              "      <td>{'visits': '1', 'hits': '1', 'pageviews': '1',...</td>\n",
              "      <td>{'visits': '1', 'hits': '1', 'pageviews': '1',...</td>\n",
              "      <td>{'visits': '1', 'hits': '1', 'pageviews': '1',...</td>\n",
              "      <td>{'visits': '1', 'hits': '1', 'pageviews': '1',...</td>\n",
              "    </tr>\n",
              "    <tr>\n",
              "      <th>trafficSource.adContent</th>\n",
              "      <td>NaN</td>\n",
              "      <td>NaN</td>\n",
              "      <td>NaN</td>\n",
              "      <td>NaN</td>\n",
              "      <td>NaN</td>\n",
              "    </tr>\n",
              "    <tr>\n",
              "      <th>trafficSource.adwordsClickInfo.adNetworkType</th>\n",
              "      <td>NaN</td>\n",
              "      <td>NaN</td>\n",
              "      <td>NaN</td>\n",
              "      <td>NaN</td>\n",
              "      <td>NaN</td>\n",
              "    </tr>\n",
              "    <tr>\n",
              "      <th>trafficSource.adwordsClickInfo.criteriaParameters</th>\n",
              "      <td>not available in demo dataset</td>\n",
              "      <td>not available in demo dataset</td>\n",
              "      <td>not available in demo dataset</td>\n",
              "      <td>not available in demo dataset</td>\n",
              "      <td>not available in demo dataset</td>\n",
              "    </tr>\n",
              "    <tr>\n",
              "      <th>trafficSource.adwordsClickInfo.gclId</th>\n",
              "      <td>NaN</td>\n",
              "      <td>NaN</td>\n",
              "      <td>NaN</td>\n",
              "      <td>NaN</td>\n",
              "      <td>NaN</td>\n",
              "    </tr>\n",
              "    <tr>\n",
              "      <th>trafficSource.adwordsClickInfo.isVideoAd</th>\n",
              "      <td>NaN</td>\n",
              "      <td>NaN</td>\n",
              "      <td>NaN</td>\n",
              "      <td>NaN</td>\n",
              "      <td>NaN</td>\n",
              "    </tr>\n",
              "    <tr>\n",
              "      <th>trafficSource.adwordsClickInfo.page</th>\n",
              "      <td>NaN</td>\n",
              "      <td>NaN</td>\n",
              "      <td>NaN</td>\n",
              "      <td>NaN</td>\n",
              "      <td>NaN</td>\n",
              "    </tr>\n",
              "    <tr>\n",
              "      <th>trafficSource.adwordsClickInfo.slot</th>\n",
              "      <td>NaN</td>\n",
              "      <td>NaN</td>\n",
              "      <td>NaN</td>\n",
              "      <td>NaN</td>\n",
              "      <td>NaN</td>\n",
              "    </tr>\n",
              "    <tr>\n",
              "      <th>trafficSource.campaign</th>\n",
              "      <td>(not set)</td>\n",
              "      <td>(not set)</td>\n",
              "      <td>(not set)</td>\n",
              "      <td>(not set)</td>\n",
              "      <td>(not set)</td>\n",
              "    </tr>\n",
              "    <tr>\n",
              "      <th>trafficSource.isTrueDirect</th>\n",
              "      <td>NaN</td>\n",
              "      <td>NaN</td>\n",
              "      <td>NaN</td>\n",
              "      <td>NaN</td>\n",
              "      <td>NaN</td>\n",
              "    </tr>\n",
              "    <tr>\n",
              "      <th>trafficSource.keyword</th>\n",
              "      <td>(not provided)</td>\n",
              "      <td>(not provided)</td>\n",
              "      <td>(not provided)</td>\n",
              "      <td>(not provided)</td>\n",
              "      <td>(not provided)</td>\n",
              "    </tr>\n",
              "    <tr>\n",
              "      <th>trafficSource.medium</th>\n",
              "      <td>organic</td>\n",
              "      <td>organic</td>\n",
              "      <td>organic</td>\n",
              "      <td>organic</td>\n",
              "      <td>organic</td>\n",
              "    </tr>\n",
              "    <tr>\n",
              "      <th>trafficSource.referralPath</th>\n",
              "      <td>NaN</td>\n",
              "      <td>NaN</td>\n",
              "      <td>NaN</td>\n",
              "      <td>NaN</td>\n",
              "      <td>NaN</td>\n",
              "    </tr>\n",
              "    <tr>\n",
              "      <th>trafficSource.source</th>\n",
              "      <td>google</td>\n",
              "      <td>google</td>\n",
              "      <td>google</td>\n",
              "      <td>google</td>\n",
              "      <td>google</td>\n",
              "    </tr>\n",
              "  </tbody>\n",
              "</table>\n",
              "</div>"
            ],
            "text/plain": [
              "                                                                                                   0  \\\n",
              "channelGrouping                                                                       Organic Search   \n",
              "date                                                                                        20160902   \n",
              "fullVisitorId                                                                    3696906537737368442   \n",
              "sessionId                                                             3696906537737368442_1472856874   \n",
              "socialEngagementType                                                            Not Socially Engaged   \n",
              "visitId                                                                                   1472856874   \n",
              "visitNumber                                                                                        1   \n",
              "visitStartTime                                                                            1472856874   \n",
              "device.device                                      {'browser': 'Chrome', 'browserVersion': 'not a...   \n",
              "geoNetwork.geoNetwork                              {'continent': 'Americas', 'subContinent': 'Sou...   \n",
              "totals.totals                                      {'visits': '1', 'hits': '1', 'pageviews': '1',...   \n",
              "trafficSource.adContent                                                                          NaN   \n",
              "trafficSource.adwordsClickInfo.adNetworkType                                                     NaN   \n",
              "trafficSource.adwordsClickInfo.criteriaParameters                      not available in demo dataset   \n",
              "trafficSource.adwordsClickInfo.gclId                                                             NaN   \n",
              "trafficSource.adwordsClickInfo.isVideoAd                                                         NaN   \n",
              "trafficSource.adwordsClickInfo.page                                                              NaN   \n",
              "trafficSource.adwordsClickInfo.slot                                                              NaN   \n",
              "trafficSource.campaign                                                                     (not set)   \n",
              "trafficSource.isTrueDirect                                                                       NaN   \n",
              "trafficSource.keyword                                                                 (not provided)   \n",
              "trafficSource.medium                                                                         organic   \n",
              "trafficSource.referralPath                                                                       NaN   \n",
              "trafficSource.source                                                                          google   \n",
              "\n",
              "                                                                                                   1  \\\n",
              "channelGrouping                                                                       Organic Search   \n",
              "date                                                                                        20160902   \n",
              "fullVisitorId                                                                    3982295596181714479   \n",
              "sessionId                                                             3982295596181714479_1472825889   \n",
              "socialEngagementType                                                            Not Socially Engaged   \n",
              "visitId                                                                                   1472825889   \n",
              "visitNumber                                                                                        1   \n",
              "visitStartTime                                                                            1472825889   \n",
              "device.device                                      {'browser': 'Chrome', 'browserVersion': 'not a...   \n",
              "geoNetwork.geoNetwork                              {'continent': 'Asia', 'subContinent': 'Eastern...   \n",
              "totals.totals                                      {'visits': '1', 'hits': '1', 'pageviews': '1',...   \n",
              "trafficSource.adContent                                                                          NaN   \n",
              "trafficSource.adwordsClickInfo.adNetworkType                                                     NaN   \n",
              "trafficSource.adwordsClickInfo.criteriaParameters                      not available in demo dataset   \n",
              "trafficSource.adwordsClickInfo.gclId                                                             NaN   \n",
              "trafficSource.adwordsClickInfo.isVideoAd                                                         NaN   \n",
              "trafficSource.adwordsClickInfo.page                                                              NaN   \n",
              "trafficSource.adwordsClickInfo.slot                                                              NaN   \n",
              "trafficSource.campaign                                                                     (not set)   \n",
              "trafficSource.isTrueDirect                                                                       NaN   \n",
              "trafficSource.keyword                                                                 (not provided)   \n",
              "trafficSource.medium                                                                         organic   \n",
              "trafficSource.referralPath                                                                       NaN   \n",
              "trafficSource.source                                                                          google   \n",
              "\n",
              "                                                                                                   2  \\\n",
              "channelGrouping                                                                       Organic Search   \n",
              "date                                                                                        20160902   \n",
              "fullVisitorId                                                                    1397786681184924394   \n",
              "sessionId                                                             1397786681184924394_1472822131   \n",
              "socialEngagementType                                                            Not Socially Engaged   \n",
              "visitId                                                                                   1472822131   \n",
              "visitNumber                                                                                        1   \n",
              "visitStartTime                                                                            1472822131   \n",
              "device.device                                      {'browser': 'Chrome', 'browserVersion': 'not a...   \n",
              "geoNetwork.geoNetwork                              {'continent': 'Europe', 'subContinent': 'North...   \n",
              "totals.totals                                      {'visits': '1', 'hits': '1', 'pageviews': '1',...   \n",
              "trafficSource.adContent                                                                          NaN   \n",
              "trafficSource.adwordsClickInfo.adNetworkType                                                     NaN   \n",
              "trafficSource.adwordsClickInfo.criteriaParameters                      not available in demo dataset   \n",
              "trafficSource.adwordsClickInfo.gclId                                                             NaN   \n",
              "trafficSource.adwordsClickInfo.isVideoAd                                                         NaN   \n",
              "trafficSource.adwordsClickInfo.page                                                              NaN   \n",
              "trafficSource.adwordsClickInfo.slot                                                              NaN   \n",
              "trafficSource.campaign                                                                     (not set)   \n",
              "trafficSource.isTrueDirect                                                                       NaN   \n",
              "trafficSource.keyword                                                                 (not provided)   \n",
              "trafficSource.medium                                                                         organic   \n",
              "trafficSource.referralPath                                                                       NaN   \n",
              "trafficSource.source                                                                          google   \n",
              "\n",
              "                                                                                                   3  \\\n",
              "channelGrouping                                                                       Organic Search   \n",
              "date                                                                                        20160902   \n",
              "fullVisitorId                                                                    1381975521299261523   \n",
              "sessionId                                                             1381975521299261523_1472829727   \n",
              "socialEngagementType                                                            Not Socially Engaged   \n",
              "visitId                                                                                   1472829727   \n",
              "visitNumber                                                                                        1   \n",
              "visitStartTime                                                                            1472829727   \n",
              "device.device                                      {'browser': 'Chrome', 'browserVersion': 'not a...   \n",
              "geoNetwork.geoNetwork                              {'continent': 'Asia', 'subContinent': 'Eastern...   \n",
              "totals.totals                                      {'visits': '1', 'hits': '1', 'pageviews': '1',...   \n",
              "trafficSource.adContent                                                                          NaN   \n",
              "trafficSource.adwordsClickInfo.adNetworkType                                                     NaN   \n",
              "trafficSource.adwordsClickInfo.criteriaParameters                      not available in demo dataset   \n",
              "trafficSource.adwordsClickInfo.gclId                                                             NaN   \n",
              "trafficSource.adwordsClickInfo.isVideoAd                                                         NaN   \n",
              "trafficSource.adwordsClickInfo.page                                                              NaN   \n",
              "trafficSource.adwordsClickInfo.slot                                                              NaN   \n",
              "trafficSource.campaign                                                                     (not set)   \n",
              "trafficSource.isTrueDirect                                                                       NaN   \n",
              "trafficSource.keyword                                                                 (not provided)   \n",
              "trafficSource.medium                                                                         organic   \n",
              "trafficSource.referralPath                                                                       NaN   \n",
              "trafficSource.source                                                                          google   \n",
              "\n",
              "                                                                                                   4  \n",
              "channelGrouping                                                                       Organic Search  \n",
              "date                                                                                        20160902  \n",
              "fullVisitorId                                                                    0715569826025005549  \n",
              "sessionId                                                             0715569826025005549_1472864193  \n",
              "socialEngagementType                                                            Not Socially Engaged  \n",
              "visitId                                                                                   1472864193  \n",
              "visitNumber                                                                                        1  \n",
              "visitStartTime                                                                            1472864193  \n",
              "device.device                                      {'browser': 'Chrome', 'browserVersion': 'not a...  \n",
              "geoNetwork.geoNetwork                              {'continent': 'Americas', 'subContinent': 'Sou...  \n",
              "totals.totals                                      {'visits': '1', 'hits': '1', 'pageviews': '1',...  \n",
              "trafficSource.adContent                                                                          NaN  \n",
              "trafficSource.adwordsClickInfo.adNetworkType                                                     NaN  \n",
              "trafficSource.adwordsClickInfo.criteriaParameters                      not available in demo dataset  \n",
              "trafficSource.adwordsClickInfo.gclId                                                             NaN  \n",
              "trafficSource.adwordsClickInfo.isVideoAd                                                         NaN  \n",
              "trafficSource.adwordsClickInfo.page                                                              NaN  \n",
              "trafficSource.adwordsClickInfo.slot                                                              NaN  \n",
              "trafficSource.campaign                                                                     (not set)  \n",
              "trafficSource.isTrueDirect                                                                       NaN  \n",
              "trafficSource.keyword                                                                 (not provided)  \n",
              "trafficSource.medium                                                                         organic  \n",
              "trafficSource.referralPath                                                                       NaN  \n",
              "trafficSource.source                                                                          google  "
            ]
          },
          "metadata": {
            "tags": []
          },
          "execution_count": 30
        }
      ]
    },
    {
      "metadata": {
        "id": "3o_oKzaU6siX",
        "colab_type": "code",
        "colab": {
          "base_uri": "https://localhost:8080/",
          "height": 36
        },
        "outputId": "8db3fb04-5b93-488c-a52c-fd5a8b6e75b7"
      },
      "cell_type": "code",
      "source": [
        "df.shape"
      ],
      "execution_count": 38,
      "outputs": [
        {
          "output_type": "execute_result",
          "data": {
            "text/plain": [
              "(63195, 6)"
            ]
          },
          "metadata": {
            "tags": []
          },
          "execution_count": 38
        }
      ]
    },
    {
      "metadata": {
        "id": "I2qndKSv6T4F",
        "colab_type": "code",
        "colab": {
          "base_uri": "https://localhost:8080/",
          "height": 148
        },
        "outputId": "5130adfc-565b-4ea3-b739-ae3f596b5280"
      },
      "cell_type": "code",
      "source": [
        "df.isna().sum()"
      ],
      "execution_count": 37,
      "outputs": [
        {
          "output_type": "execute_result",
          "data": {
            "text/plain": [
              "bounces               31620\n",
              "hits                      0\n",
              "newVisits             14090\n",
              "pageviews                 8\n",
              "transactionRevenue    62376\n",
              "visits                    0\n",
              "dtype: int64"
            ]
          },
          "metadata": {
            "tags": []
          },
          "execution_count": 37
        }
      ]
    },
    {
      "metadata": {
        "id": "5ApOwJgl61BC",
        "colab_type": "code",
        "colab": {
          "base_uri": "https://localhost:8080/",
          "height": 263
        },
        "outputId": "5fb7b29e-7f49-488d-ae16-7b06747076bf"
      },
      "cell_type": "code",
      "source": [
        "test_data.head(2)"
      ],
      "execution_count": 40,
      "outputs": [
        {
          "output_type": "execute_result",
          "data": {
            "text/html": [
              "<div>\n",
              "<style scoped>\n",
              "    .dataframe tbody tr th:only-of-type {\n",
              "        vertical-align: middle;\n",
              "    }\n",
              "\n",
              "    .dataframe tbody tr th {\n",
              "        vertical-align: top;\n",
              "    }\n",
              "\n",
              "    .dataframe thead th {\n",
              "        text-align: right;\n",
              "    }\n",
              "</style>\n",
              "<table border=\"1\" class=\"dataframe\">\n",
              "  <thead>\n",
              "    <tr style=\"text-align: right;\">\n",
              "      <th></th>\n",
              "      <th>channelGrouping</th>\n",
              "      <th>date</th>\n",
              "      <th>fullVisitorId</th>\n",
              "      <th>sessionId</th>\n",
              "      <th>socialEngagementType</th>\n",
              "      <th>visitId</th>\n",
              "      <th>visitNumber</th>\n",
              "      <th>visitStartTime</th>\n",
              "      <th>device.device</th>\n",
              "      <th>geoNetwork.geoNetwork</th>\n",
              "      <th>...</th>\n",
              "      <th>trafficSource.adwordsClickInfo.gclId</th>\n",
              "      <th>trafficSource.adwordsClickInfo.isVideoAd</th>\n",
              "      <th>trafficSource.adwordsClickInfo.page</th>\n",
              "      <th>trafficSource.adwordsClickInfo.slot</th>\n",
              "      <th>trafficSource.campaign</th>\n",
              "      <th>trafficSource.isTrueDirect</th>\n",
              "      <th>trafficSource.keyword</th>\n",
              "      <th>trafficSource.medium</th>\n",
              "      <th>trafficSource.referralPath</th>\n",
              "      <th>trafficSource.source</th>\n",
              "    </tr>\n",
              "  </thead>\n",
              "  <tbody>\n",
              "    <tr>\n",
              "      <th>0</th>\n",
              "      <td>Organic Search</td>\n",
              "      <td>20171016</td>\n",
              "      <td>2539146239106597280</td>\n",
              "      <td>2539146239106597280_1508207776</td>\n",
              "      <td>Not Socially Engaged</td>\n",
              "      <td>1508207776</td>\n",
              "      <td>1</td>\n",
              "      <td>1508207776</td>\n",
              "      <td>{'browser': 'Chrome', 'browserVersion': 'not a...</td>\n",
              "      <td>{'continent': 'Americas', 'subContinent': 'Nor...</td>\n",
              "      <td>...</td>\n",
              "      <td>NaN</td>\n",
              "      <td>NaN</td>\n",
              "      <td>NaN</td>\n",
              "      <td>NaN</td>\n",
              "      <td>(not set)</td>\n",
              "      <td>NaN</td>\n",
              "      <td>(not provided)</td>\n",
              "      <td>organic</td>\n",
              "      <td>NaN</td>\n",
              "      <td>google</td>\n",
              "    </tr>\n",
              "    <tr>\n",
              "      <th>1</th>\n",
              "      <td>Organic Search</td>\n",
              "      <td>20171016</td>\n",
              "      <td>8375379770594309032</td>\n",
              "      <td>8375379770594309032_1508213189</td>\n",
              "      <td>Not Socially Engaged</td>\n",
              "      <td>1508213189</td>\n",
              "      <td>1</td>\n",
              "      <td>1508213189</td>\n",
              "      <td>{'browser': 'Chrome', 'browserVersion': 'not a...</td>\n",
              "      <td>{'continent': 'Americas', 'subContinent': 'Nor...</td>\n",
              "      <td>...</td>\n",
              "      <td>NaN</td>\n",
              "      <td>NaN</td>\n",
              "      <td>NaN</td>\n",
              "      <td>NaN</td>\n",
              "      <td>(not set)</td>\n",
              "      <td>NaN</td>\n",
              "      <td>(not provided)</td>\n",
              "      <td>organic</td>\n",
              "      <td>NaN</td>\n",
              "      <td>google</td>\n",
              "    </tr>\n",
              "  </tbody>\n",
              "</table>\n",
              "<p>2 rows × 24 columns</p>\n",
              "</div>"
            ],
            "text/plain": [
              "  channelGrouping      date        fullVisitorId  \\\n",
              "0  Organic Search  20171016  2539146239106597280   \n",
              "1  Organic Search  20171016  8375379770594309032   \n",
              "\n",
              "                        sessionId  socialEngagementType     visitId  \\\n",
              "0  2539146239106597280_1508207776  Not Socially Engaged  1508207776   \n",
              "1  8375379770594309032_1508213189  Not Socially Engaged  1508213189   \n",
              "\n",
              "   visitNumber  visitStartTime  \\\n",
              "0            1      1508207776   \n",
              "1            1      1508213189   \n",
              "\n",
              "                                       device.device  \\\n",
              "0  {'browser': 'Chrome', 'browserVersion': 'not a...   \n",
              "1  {'browser': 'Chrome', 'browserVersion': 'not a...   \n",
              "\n",
              "                               geoNetwork.geoNetwork         ...           \\\n",
              "0  {'continent': 'Americas', 'subContinent': 'Nor...         ...            \n",
              "1  {'continent': 'Americas', 'subContinent': 'Nor...         ...            \n",
              "\n",
              "  trafficSource.adwordsClickInfo.gclId  \\\n",
              "0                                  NaN   \n",
              "1                                  NaN   \n",
              "\n",
              "  trafficSource.adwordsClickInfo.isVideoAd  \\\n",
              "0                                      NaN   \n",
              "1                                      NaN   \n",
              "\n",
              "  trafficSource.adwordsClickInfo.page trafficSource.adwordsClickInfo.slot  \\\n",
              "0                                 NaN                                 NaN   \n",
              "1                                 NaN                                 NaN   \n",
              "\n",
              "  trafficSource.campaign trafficSource.isTrueDirect trafficSource.keyword  \\\n",
              "0              (not set)                        NaN        (not provided)   \n",
              "1              (not set)                        NaN        (not provided)   \n",
              "\n",
              "  trafficSource.medium trafficSource.referralPath trafficSource.source  \n",
              "0              organic                        NaN               google  \n",
              "1              organic                        NaN               google  \n",
              "\n",
              "[2 rows x 24 columns]"
            ]
          },
          "metadata": {
            "tags": []
          },
          "execution_count": 40
        }
      ]
    },
    {
      "metadata": {
        "id": "zWJSHwi468gy",
        "colab_type": "code",
        "colab": {
          "base_uri": "https://localhost:8080/",
          "height": 129
        },
        "outputId": "aad28959-1d44-4f3e-e073-e56d353ccb60"
      },
      "cell_type": "code",
      "source": [
        "test_data[\"totals.totals\"][:5]"
      ],
      "execution_count": 41,
      "outputs": [
        {
          "output_type": "execute_result",
          "data": {
            "text/plain": [
              "0    {'visits': '1', 'hits': '3', 'pageviews': '3',...\n",
              "1    {'visits': '1', 'hits': '4', 'pageviews': '4',...\n",
              "2    {'visits': '1', 'hits': '4', 'pageviews': '4',...\n",
              "3    {'visits': '1', 'hits': '4', 'pageviews': '4',...\n",
              "4    {'visits': '1', 'hits': '5', 'pageviews': '5',...\n",
              "Name: totals.totals, dtype: object"
            ]
          },
          "metadata": {
            "tags": []
          },
          "execution_count": 41
        }
      ]
    },
    {
      "metadata": {
        "id": "uPyMvAMc20yt",
        "colab_type": "code",
        "colab": {
          "base_uri": "https://localhost:8080/",
          "height": 110
        },
        "outputId": "97100f6e-4bdf-4684-cef3-79abe82f2b66"
      },
      "cell_type": "code",
      "source": [
        "df = train[\"totals.totals\"].apply(pd.Series)\n",
        "df.head(2)"
      ],
      "execution_count": 43,
      "outputs": [
        {
          "output_type": "execute_result",
          "data": {
            "text/html": [
              "<div>\n",
              "<style scoped>\n",
              "    .dataframe tbody tr th:only-of-type {\n",
              "        vertical-align: middle;\n",
              "    }\n",
              "\n",
              "    .dataframe tbody tr th {\n",
              "        vertical-align: top;\n",
              "    }\n",
              "\n",
              "    .dataframe thead th {\n",
              "        text-align: right;\n",
              "    }\n",
              "</style>\n",
              "<table border=\"1\" class=\"dataframe\">\n",
              "  <thead>\n",
              "    <tr style=\"text-align: right;\">\n",
              "      <th></th>\n",
              "      <th>bounces</th>\n",
              "      <th>hits</th>\n",
              "      <th>newVisits</th>\n",
              "      <th>pageviews</th>\n",
              "      <th>transactionRevenue</th>\n",
              "      <th>visits</th>\n",
              "    </tr>\n",
              "  </thead>\n",
              "  <tbody>\n",
              "    <tr>\n",
              "      <th>0</th>\n",
              "      <td>1</td>\n",
              "      <td>1</td>\n",
              "      <td>1</td>\n",
              "      <td>1</td>\n",
              "      <td>NaN</td>\n",
              "      <td>1</td>\n",
              "    </tr>\n",
              "    <tr>\n",
              "      <th>1</th>\n",
              "      <td>1</td>\n",
              "      <td>1</td>\n",
              "      <td>1</td>\n",
              "      <td>1</td>\n",
              "      <td>NaN</td>\n",
              "      <td>1</td>\n",
              "    </tr>\n",
              "  </tbody>\n",
              "</table>\n",
              "</div>"
            ],
            "text/plain": [
              "  bounces hits newVisits pageviews transactionRevenue visits\n",
              "0       1    1         1         1                NaN      1\n",
              "1       1    1         1         1                NaN      1"
            ]
          },
          "metadata": {
            "tags": []
          },
          "execution_count": 43
        }
      ]
    },
    {
      "metadata": {
        "id": "P-gL2aYV7mdi",
        "colab_type": "code",
        "colab": {
          "base_uri": "https://localhost:8080/",
          "height": 110
        },
        "outputId": "9f4fbc0d-856d-4118-c340-7ca186796d89"
      },
      "cell_type": "code",
      "source": [
        "df_test = test_data[\"totals.totals\"].apply(pd.Series)\n",
        "df_test.head(2)"
      ],
      "execution_count": 42,
      "outputs": [
        {
          "output_type": "execute_result",
          "data": {
            "text/html": [
              "<div>\n",
              "<style scoped>\n",
              "    .dataframe tbody tr th:only-of-type {\n",
              "        vertical-align: middle;\n",
              "    }\n",
              "\n",
              "    .dataframe tbody tr th {\n",
              "        vertical-align: top;\n",
              "    }\n",
              "\n",
              "    .dataframe thead th {\n",
              "        text-align: right;\n",
              "    }\n",
              "</style>\n",
              "<table border=\"1\" class=\"dataframe\">\n",
              "  <thead>\n",
              "    <tr style=\"text-align: right;\">\n",
              "      <th></th>\n",
              "      <th>bounces</th>\n",
              "      <th>hits</th>\n",
              "      <th>newVisits</th>\n",
              "      <th>pageviews</th>\n",
              "      <th>visits</th>\n",
              "    </tr>\n",
              "  </thead>\n",
              "  <tbody>\n",
              "    <tr>\n",
              "      <th>0</th>\n",
              "      <td>NaN</td>\n",
              "      <td>3</td>\n",
              "      <td>1</td>\n",
              "      <td>3</td>\n",
              "      <td>1</td>\n",
              "    </tr>\n",
              "    <tr>\n",
              "      <th>1</th>\n",
              "      <td>NaN</td>\n",
              "      <td>4</td>\n",
              "      <td>1</td>\n",
              "      <td>4</td>\n",
              "      <td>1</td>\n",
              "    </tr>\n",
              "  </tbody>\n",
              "</table>\n",
              "</div>"
            ],
            "text/plain": [
              "  bounces hits newVisits pageviews visits\n",
              "0     NaN    3         1         3      1\n",
              "1     NaN    4         1         4      1"
            ]
          },
          "metadata": {
            "tags": []
          },
          "execution_count": 42
        }
      ]
    },
    {
      "metadata": {
        "id": "Nwl4-Itw9QXp",
        "colab_type": "code",
        "colab": {
          "base_uri": "https://localhost:8080/",
          "height": 110
        },
        "outputId": "074308f0-969a-47ea-d17e-dc1c0e3e0b16"
      },
      "cell_type": "code",
      "source": [
        "df_sub = submission[\"totals.totals\"].apply(pd.Series)\n",
        "df_sub.head(2)"
      ],
      "execution_count": 44,
      "outputs": [
        {
          "output_type": "execute_result",
          "data": {
            "text/html": [
              "<div>\n",
              "<style scoped>\n",
              "    .dataframe tbody tr th:only-of-type {\n",
              "        vertical-align: middle;\n",
              "    }\n",
              "\n",
              "    .dataframe tbody tr th {\n",
              "        vertical-align: top;\n",
              "    }\n",
              "\n",
              "    .dataframe thead th {\n",
              "        text-align: right;\n",
              "    }\n",
              "</style>\n",
              "<table border=\"1\" class=\"dataframe\">\n",
              "  <thead>\n",
              "    <tr style=\"text-align: right;\">\n",
              "      <th></th>\n",
              "      <th>bounces</th>\n",
              "      <th>hits</th>\n",
              "      <th>newVisits</th>\n",
              "      <th>pageviews</th>\n",
              "      <th>visits</th>\n",
              "    </tr>\n",
              "  </thead>\n",
              "  <tbody>\n",
              "    <tr>\n",
              "      <th>0</th>\n",
              "      <td>NaN</td>\n",
              "      <td>3</td>\n",
              "      <td>1</td>\n",
              "      <td>3</td>\n",
              "      <td>1</td>\n",
              "    </tr>\n",
              "    <tr>\n",
              "      <th>1</th>\n",
              "      <td>NaN</td>\n",
              "      <td>3</td>\n",
              "      <td>1</td>\n",
              "      <td>3</td>\n",
              "      <td>1</td>\n",
              "    </tr>\n",
              "  </tbody>\n",
              "</table>\n",
              "</div>"
            ],
            "text/plain": [
              "  bounces hits newVisits pageviews visits\n",
              "0     NaN    3         1         3      1\n",
              "1     NaN    3         1         3      1"
            ]
          },
          "metadata": {
            "tags": []
          },
          "execution_count": 44
        }
      ]
    }
  ]
}